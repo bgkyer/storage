{
 "cells": [
  {
   "cell_type": "markdown",
   "metadata": {},
   "source": [
    "## Table of Contents\n",
    "* [Introduction](#introduction)\n",
    "\n",
    "* [Valuation Results](#valuation_results)\n",
    "    * [Deltas](#deltas)\n",
    "    * [Intrinsic Profile](#intrinsic_profile)\n",
    "    * [Trigger Prices](#trigger_prices)\n",
    "    * [Simulated Values](#simulated_values)\n",
    "\n",
    "* [Instrumentation](#instrumentation)\n",
    "    * [Progress Callback](#progress_callback)\n",
    "    * [Logging](#logging)\n"
   ]
  },
  {
   "cell_type": "markdown",
   "metadata": {},
   "source": [
    "<a id='introduction'></a>\n",
    "### Introduction\n",
    "This notebook describes how to value storage using the Least Squares Monte Carlo multi-factor valuation model using the Python API. As a prerequisite please first study the notebook [creating_storage_instances](creating_storage_instances.ipynb) which describes how to create instances of CmdtyStorage which represent the storage facility.\n",
    "\n"
   ]
  },
  {
   "cell_type": "code",
   "execution_count": 1,
   "metadata": {},
   "outputs": [],
   "source": [
    "# Common Imports\n",
    "from cmdty_storage import CmdtyStorage, three_factor_seasonal_value, multi_factor_value\n",
    "import pandas as pd\n",
    "import ipywidgets as ipw\n",
    "from IPython.display import display"
   ]
  },
  {
   "cell_type": "markdown",
   "metadata": {},
   "source": [
    "#### Storage Object\n",
    "For all examples the following storage with ratchets is used."
   ]
  },
  {
   "cell_type": "code",
   "execution_count": 2,
   "metadata": {},
   "outputs": [],
   "source": [
    "storage = CmdtyStorage(\n",
    "    freq='D',\n",
    "    storage_start = '2021-04-01',\n",
    "    storage_end = '2022-04-01',\n",
    "    injection_cost = 0.01,\n",
    "    withdrawal_cost = 0.025,\n",
    "    constraints= [\n",
    "                ('2021-04-01', # For days after 2021-04-01 (inclusive) until 2022-10-01 (exclusive):\n",
    "                       [\n",
    "                            (0.0, -150.0, 250.0),    # At min inventory of zero, max withdrawal of 150, max injection 250\n",
    "                            (2000.0, -200.0, 175.0), # At inventory of 2000, max withdrawal of 200, max injection 175\n",
    "                            (5000.0, -260.0, 155.0), # At inventory of 5000, max withdrawal of 260, max injection 155\n",
    "                            (7000.0, -275.0, 132.0), # At max inventory of 7000, max withdrawal of 275, max injection 132\n",
    "                        ]),\n",
    "                  ('2022-10-01', # For days after 2022-10-01 (inclusive):\n",
    "                       [\n",
    "                            (0.0, -130.0, 260.0),    # At min inventory of zero, max withdrawal of 130, max injection 260\n",
    "                            (2000.0, -190.0, 190.0), # At inventory of 2000, max withdrawal of 190, max injection 190\n",
    "                            (5000.0, -230.0, 165.0), # At inventory of 5000, max withdrawal of 230, max injection 165\n",
    "                            (7000.0, -245.0, 148.0), # At max inventory of 7000, max withdrawal of 245, max injection 148\n",
    "                        ]),\n",
    "                 ]\n",
    ")"
   ]
  },
  {
   "cell_type": "markdown",
   "metadata": {},
   "source": [
    "#### Forward Curve\n",
    "The following natural gas forward curve is used in all examples. This is a monthly curve, converted to daily granularity with piecewise flat interpolation. To create smooth daily curves, with day-of-week seasonality see [Cmdty Curves](https://github.com/cmdty/curves)."
   ]
  },
  {
   "cell_type": "code",
   "execution_count": 3,
   "metadata": {},
   "outputs": [
    {
     "data": {
      "text/plain": [
       "<matplotlib.axes._subplots.AxesSubplot at 0x20cc0f8b320>"
      ]
     },
     "execution_count": 3,
     "metadata": {},
     "output_type": "execute_result"
    },
    {
     "data": {
      "image/png": "[encoded data removed]",
      "text/plain": [
       "<Figure size 432x288 with 1 Axes>"
      ]
     },
     "metadata": {
      "needs_background": "light"
     },
     "output_type": "display_data"
    }
   ],
   "source": [
    "monthly_index = pd.period_range(start='2021-04-25', periods=25, freq='M')\n",
    "monthly_fwd_prices = [16.61, 15.68, 15.42, 15.31, 15.27, 15.13, 15.96, 17.22, 17.32, 17.66, \n",
    "                      17.59, 16.81, 15.36, 14.49, 14.28, 14.25, 14.32, 14.33, 15.30, 16.58, \n",
    "                      16.64, 16.79, 16.64, 15.90, 14.63]\n",
    "fwd_curve = pd.Series(data=monthly_fwd_prices, index=monthly_index).resample('D').fillna('pad')\n",
    "%matplotlib inline\n",
    "fwd_curve.plot(title='Forward Curve')"
   ]
  },
  {
   "cell_type": "markdown",
   "metadata": {},
   "source": [
    "#### Interest Rates Curve\n",
    "Act/365 continuously compounded interest rates are provided as a Pandas Series instance. In these examples, for simplicity a linearly interpolated rates curve is used. "
   ]
  },
  {
   "cell_type": "code",
   "execution_count": 4,
   "metadata": {},
   "outputs": [
    {
     "data": {
      "text/plain": [
       "<matplotlib.axes._subplots.AxesSubplot at 0x20cc10e6978>"
      ]
     },
     "execution_count": 4,
     "metadata": {},
     "output_type": "execute_result"
    },
    {
     "data": {
      "image/png": "[encoded data removed]",
      "text/plain": [
       "<Figure size 432x288 with 1 Axes>"
      ]
     },
     "metadata": {
      "needs_background": "light"
     },
     "output_type": "display_data"
    }
   ],
   "source": [
    "rates = [0.005, 0.006, 0.0072, 0.0087, 0.0101, 0.0115, 0.0126]\n",
    "rates_pillars = pd.PeriodIndex(freq='D', data=['2021-04-25', '2021-06-01', '2021-08-01', '2021-12-01', '2022-04-01', \n",
    "                                              '2022-12-01', '2023-12-01'])\n",
    "ir_curve = pd.Series(data=rates, index=rates_pillars).resample('D').asfreq('D').interpolate(method='linear')\n",
    "ir_curve.plot(title='Interest Rate Curve')"
   ]
  },
  {
   "cell_type": "markdown",
   "metadata": {},
   "source": [
    "<a id='three_factor_seasonal'></a>\n",
    "### Three Factor Seasonal Model\n",
    "This section gives an example of using the storage valuation model where the commodity price dynamics are assumed to follow a three-factor seasonal model. The stochastic price model is described in [this paper](https://github.com/cmdty/core/blob/master/docs/three_factor_seasonal_model/three_factor_seasonal_model.pdf), which is a special case of the more general [multi-factor model](https://github.com/cmdty/core/blob/master/docs/multifactor_price_process/multifactor_price_process.pdf). The three factor model is particularly suited power and natural gas which show seaonality in the volatility and correlation."
   ]
  },
  {
   "cell_type": "code",
   "execution_count": 5,
   "metadata": {},
   "outputs": [],
   "source": [
    "three_factor_results = three_factor_seasonal_value(\n",
    "    cmdty_storage = storage,\n",
    "    val_date = '2021-04-25',\n",
    "    inventory = 1500.0,\n",
    "    fwd_curve = fwd_curve,\n",
    "    interest_rates = ir_curve,\n",
    "    settlement_rule = lambda decision_date: decision_date.asfreq('M').asfreq('D', 'end') + 20,\n",
    "    spot_mean_reversion = 45.0,\n",
    "    spot_vol = 0.65,\n",
    "    long_term_vol = 0.21,\n",
    "    seasonal_vol = 0.18,\n",
    "    num_sims = 500,\n",
    "    basis_funcs = '1 + x_st + x_sw + x_lt + x_st**2 + x_sw**2 + x_lt**2 + x_st**3 + x_sw**3 + x_lt**3',\n",
    "    discount_deltas=True\n",
    ")"
   ]
  },
  {
   "cell_type": "markdown",
   "metadata": {},
   "source": [
    "<a id='valuation_results'></a>\n",
    "## Valuation Results\n",
    "The **three_factor_seasonal_value** function call above returns an instance of **MultiFactorValuationResults**, which derives from NamedTuple and has many properties for the results of the optimisation, plus other metadata from the calculations.\n",
    "\n",
    "The the following attributes give information on the NPV (Net Present Value):\n",
    "* **npv** is the full NPV including the option value.\n",
    "* **intrinsic_npv** is the NPV calculated using a static optimisation assuming prices are deterministic, i.e. giving the storage no option value.\n",
    "* **extrinsic_npv** is the value of just the optionality, i.e. npv minus intrinsic_npv."
   ]
  },
  {
   "cell_type": "code",
   "execution_count": 6,
   "metadata": {},
   "outputs": [
    {
     "name": "stdout",
     "output_type": "stream",
     "text": [
      "Full NPV:\t73,110\n",
      "Intrinsic NPV: \t40,976\n",
      "Extrinsic NPV: \t32,134\n"
     ]
    }
   ],
   "source": [
    "print('Full NPV:\\t{0:,.0f}'.format(three_factor_results.npv))\n",
    "print('Intrinsic NPV: \\t{0:,.0f}'.format(three_factor_results.intrinsic_npv))\n",
    "print('Extrinsic NPV: \\t{0:,.0f}'.format(three_factor_results.extrinsic_npv))"
   ]
  },
  {
   "cell_type": "markdown",
   "metadata": {},
   "source": [
    "<a id='deltas'></a>\n",
    "### Deltas\n",
    "The **deltas** property is of type pandas.Series and contains the senstivity of the full NPV to the forward price, for each future period. This is calculated using pathwise differentiation as part of the Monte Carlo simulation, hence if not many simulation paths are used, as in this example, it can look quite jagged. With a higher number of simulations this should look smoother."
   ]
  },
  {
   "cell_type": "code",
   "execution_count": 7,
   "metadata": {},
   "outputs": [
    {
     "data": {
      "text/plain": [
       "<matplotlib.axes._subplots.AxesSubplot at 0x20cc1a80ba8>"
      ]
     },
     "execution_count": 7,
     "metadata": {},
     "output_type": "execute_result"
    },
    {
     "data": {
      "image/png": "[encoded data removed]",
      "text/plain": [
       "<Figure size 432x288 with 1 Axes>"
      ]
     },
     "metadata": {
      "needs_background": "light"
     },
     "output_type": "display_data"
    }
   ],
   "source": [
    "three_factor_results.deltas.plot(title='Deltas')"
   ]
  },
  {
   "cell_type": "markdown",
   "metadata": {},
   "source": [
    "<a id='intrinsic_profile'></a>\n",
    "### Intrinsic Profile\n",
    "The **intrinsic_profile** property is of type pandas.DataFrame and contains information for each future time period on the optimisation performed for the intrinsic valuation. "
   ]
  },
  {
   "cell_type": "code",
   "execution_count": 8,
   "metadata": {},
   "outputs": [
    {
     "data": {
      "text/html": [
       "<div>\n",
       "<style scoped>\n",
       "    .dataframe tbody tr th:only-of-type {\n",
       "        vertical-align: middle;\n",
       "    }\n",
       "\n",
       "    .dataframe tbody tr th {\n",
       "        vertical-align: top;\n",
       "    }\n",
       "\n",
       "    .dataframe thead th {\n",
       "        text-align: right;\n",
       "    }\n",
       "</style>\n",
       "<table border=\"1\" class=\"dataframe\">\n",
       "  <thead>\n",
       "    <tr style=\"text-align: right;\">\n",
       "      <th></th>\n",
       "      <th>inventory</th>\n",
       "      <th>inject_withdraw_volume</th>\n",
       "      <th>cmdty_consumed</th>\n",
       "      <th>inventory_loss</th>\n",
       "      <th>net_volume</th>\n",
       "      <th>period_pv</th>\n",
       "    </tr>\n",
       "  </thead>\n",
       "  <tbody>\n",
       "    <tr>\n",
       "      <th>2021-04-25</th>\n",
       "      <td>1312.500000</td>\n",
       "      <td>-187.500000</td>\n",
       "      <td>0.0</td>\n",
       "      <td>0.0</td>\n",
       "      <td>187.500000</td>\n",
       "      <td>3108.477038</td>\n",
       "    </tr>\n",
       "    <tr>\n",
       "      <th>2021-04-26</th>\n",
       "      <td>1129.687500</td>\n",
       "      <td>-182.812500</td>\n",
       "      <td>0.0</td>\n",
       "      <td>0.0</td>\n",
       "      <td>182.812500</td>\n",
       "      <td>3030.765175</td>\n",
       "    </tr>\n",
       "    <tr>\n",
       "      <th>2021-04-27</th>\n",
       "      <td>951.445312</td>\n",
       "      <td>-178.242188</td>\n",
       "      <td>0.0</td>\n",
       "      <td>0.0</td>\n",
       "      <td>178.242188</td>\n",
       "      <td>2954.996108</td>\n",
       "    </tr>\n",
       "    <tr>\n",
       "      <th>2021-04-28</th>\n",
       "      <td>777.659180</td>\n",
       "      <td>-173.786133</td>\n",
       "      <td>0.0</td>\n",
       "      <td>0.0</td>\n",
       "      <td>173.786133</td>\n",
       "      <td>2881.121266</td>\n",
       "    </tr>\n",
       "    <tr>\n",
       "      <th>2021-04-29</th>\n",
       "      <td>608.217700</td>\n",
       "      <td>-169.441479</td>\n",
       "      <td>0.0</td>\n",
       "      <td>0.0</td>\n",
       "      <td>169.441479</td>\n",
       "      <td>2809.093295</td>\n",
       "    </tr>\n",
       "    <tr>\n",
       "      <th>...</th>\n",
       "      <td>...</td>\n",
       "      <td>...</td>\n",
       "      <td>...</td>\n",
       "      <td>...</td>\n",
       "      <td>...</td>\n",
       "      <td>...</td>\n",
       "    </tr>\n",
       "    <tr>\n",
       "      <th>2022-03-28</th>\n",
       "      <td>0.000000</td>\n",
       "      <td>0.000000</td>\n",
       "      <td>0.0</td>\n",
       "      <td>0.0</td>\n",
       "      <td>-0.000000</td>\n",
       "      <td>-0.000000</td>\n",
       "    </tr>\n",
       "    <tr>\n",
       "      <th>2022-03-29</th>\n",
       "      <td>0.000000</td>\n",
       "      <td>0.000000</td>\n",
       "      <td>0.0</td>\n",
       "      <td>0.0</td>\n",
       "      <td>-0.000000</td>\n",
       "      <td>-0.000000</td>\n",
       "    </tr>\n",
       "    <tr>\n",
       "      <th>2022-03-30</th>\n",
       "      <td>0.000000</td>\n",
       "      <td>0.000000</td>\n",
       "      <td>0.0</td>\n",
       "      <td>0.0</td>\n",
       "      <td>-0.000000</td>\n",
       "      <td>-0.000000</td>\n",
       "    </tr>\n",
       "    <tr>\n",
       "      <th>2022-03-31</th>\n",
       "      <td>0.000000</td>\n",
       "      <td>0.000000</td>\n",
       "      <td>0.0</td>\n",
       "      <td>0.0</td>\n",
       "      <td>-0.000000</td>\n",
       "      <td>-0.000000</td>\n",
       "    </tr>\n",
       "    <tr>\n",
       "      <th>2022-04-01</th>\n",
       "      <td>0.000000</td>\n",
       "      <td>0.000000</td>\n",
       "      <td>0.0</td>\n",
       "      <td>0.0</td>\n",
       "      <td>0.000000</td>\n",
       "      <td>0.000000</td>\n",
       "    </tr>\n",
       "  </tbody>\n",
       "</table>\n",
       "<p>342 rows × 6 columns</p>\n",
       "</div>"
      ],
      "text/plain": [
       "              inventory  inject_withdraw_volume  cmdty_consumed  \\\n",
       "2021-04-25  1312.500000             -187.500000             0.0   \n",
       "2021-04-26  1129.687500             -182.812500             0.0   \n",
       "2021-04-27   951.445312             -178.242188             0.0   \n",
       "2021-04-28   777.659180             -173.786133             0.0   \n",
       "2021-04-29   608.217700             -169.441479             0.0   \n",
       "...                 ...                     ...             ...   \n",
       "2022-03-28     0.000000                0.000000             0.0   \n",
       "2022-03-29     0.000000                0.000000             0.0   \n",
       "2022-03-30     0.000000                0.000000             0.0   \n",
       "2022-03-31     0.000000                0.000000             0.0   \n",
       "2022-04-01     0.000000                0.000000             0.0   \n",
       "\n",
       "            inventory_loss  net_volume    period_pv  \n",
       "2021-04-25             0.0  187.500000  3108.477038  \n",
       "2021-04-26             0.0  182.812500  3030.765175  \n",
       "2021-04-27             0.0  178.242188  2954.996108  \n",
       "2021-04-28             0.0  173.786133  2881.121266  \n",
       "2021-04-29             0.0  169.441479  2809.093295  \n",
       "...                    ...         ...          ...  \n",
       "2022-03-28             0.0   -0.000000    -0.000000  \n",
       "2022-03-29             0.0   -0.000000    -0.000000  \n",
       "2022-03-30             0.0   -0.000000    -0.000000  \n",
       "2022-03-31             0.0   -0.000000    -0.000000  \n",
       "2022-04-01             0.0    0.000000     0.000000  \n",
       "\n",
       "[342 rows x 6 columns]"
      ]
     },
     "execution_count": 8,
     "metadata": {},
     "output_type": "execute_result"
    }
   ],
   "source": [
    "three_factor_results.intrinsic_profile"
   ]
  },
  {
   "cell_type": "markdown",
   "metadata": {},
   "source": [
    "<a id='trigger_prices'></a>\n",
    "### Trigger Prices\n",
    "The **trigger_prices** property contains information on \"trigger prices\" which are approximate spot price levels at which the exercise decision changes.\n",
    "* The withdraw trigger price is the spot price level, at time of nomination, above which the optimal decision will change to withdraw.\n",
    "* The inject trigger price is the spot price level, at time of nomination, below which the optimal decision will change to inject.\n",
    "\n"
   ]
  },
  {
   "cell_type": "code",
   "execution_count": 10,
   "metadata": {},
   "outputs": [
    {
     "data": {
      "text/plain": [
       "<matplotlib.axes._subplots.AxesSubplot at 0x20cc4223908>"
      ]
     },
     "execution_count": 10,
     "metadata": {},
     "output_type": "execute_result"
    },
    {
     "data": {
      "image/png": "[encoded data removed]",
      "text/plain": [
       "<Figure size 432x288 with 2 Axes>"
      ]
     },
     "metadata": {
      "needs_background": "light"
     },
     "output_type": "display_data"
    }
   ],
   "source": [
    "ax1 = three_factor_results.trigger_prices.plot(title='Trigger Prices')\n",
    "ax2 = ax1.twinx()\n",
    "ax2.spines['right'].set_position(('axes', 1.0))\n",
    "three_factor_results.trigger_prices.plot(ax=ax2)\n"
   ]
  },
  {
   "cell_type": "markdown",
   "metadata": {},
   "source": [
    "<a id='simulated_values'></a>\n",
    "### Simulated Values\n",
    "**MultiFactorValuationResults** has a number of properties of type pandas.DataFrame which information at the individual simulation level from the internals of the Least Squares Monte Carlo valuation. For each of these the "
   ]
  },
  {
   "cell_type": "code",
   "execution_count": 40,
   "metadata": {},
   "outputs": [
    {
     "data": {
      "text/plain": [
       "RangeIndex(start=0, stop=500, step=1)"
      ]
     },
     "execution_count": 40,
     "metadata": {},
     "output_type": "execute_result"
    }
   ],
   "source": [
    "three_factor_results.sim_spot_regress.columns"
   ]
  },
  {
   "cell_type": "markdown",
   "metadata": {},
   "source": [
    "<a id='instrumentation'></a>\n",
    "## Instrumentation\n",
    "There are two ways to instrument the valuation code: an on progress call-back and logging. This section describes both of these. \n",
    "\n",
    "\n",
    "<a id='progress_callback'></a>\n",
    "### Progress Callback\n",
    "Both valuation functions have an optional argument **on_progress_update** which should be assigned to a callable (i.e. a function) which accepts one argument and has void return. When running the valuation the callable will be invoked with a float instance passed in to the single argument with a numeric approximation of the percentage progress of the total calculation. A typical usage scenario would be to wire this up to a progress bar. This is particularly important from a usability perspective, when a high number of Monte-Carlo simulations are used, hence the calculations can take a long time.\n",
    "\n",
    "The example below demonstrates this with a IPython progress bar widget."
   ]
  },
  {
   "cell_type": "code",
   "execution_count": 25,
   "metadata": {},
   "outputs": [
    {
     "data": {
      "application/vnd.jupyter.widget-view+json": {
       "model_id": "248f66e367e04aeeb11409bc73edb4a7",
       "version_major": 2,
       "version_minor": 0
      },
      "text/plain": [
       "Button(description='Calc Storage Value', style=ButtonStyle())"
      ]
     },
     "metadata": {},
     "output_type": "display_data"
    },
    {
     "data": {
      "application/vnd.jupyter.widget-view+json": {
       "model_id": "34e2fba7fd2d4617983ad69c1855c6c8",
       "version_major": 2,
       "version_minor": 0
      },
      "text/plain": [
       "FloatProgress(value=0.0, max=1.0)"
      ]
     },
     "metadata": {},
     "output_type": "display_data"
    }
   ],
   "source": [
    "progress_wgt = ipw.FloatProgress(min=0.0, max=1.0)\n",
    "\n",
    "def on_progress(progress):\n",
    "    progress_wgt.value = progress\n",
    "\n",
    "def btn_value_progress_clicked(b):\n",
    "    on_progress_demo_results = three_factor_seasonal_value(\n",
    "        cmdty_storage = storage,\n",
    "        val_date = '2021-04-25',\n",
    "        inventory = 1500.0,\n",
    "        fwd_curve = fwd_curve,\n",
    "        interest_rates = ir_curve,\n",
    "        settlement_rule = lambda decision_date: decision_date.asfreq('M').asfreq('D', 'end') + 20,\n",
    "        spot_mean_reversion = 45.0,\n",
    "        spot_vol = 0.65,\n",
    "        long_term_vol = 0.21,\n",
    "        seasonal_vol = 0.18,\n",
    "        num_sims = 500,\n",
    "        basis_funcs = '1 + x_st + x_sw + x_lt + x_st**2 + x_sw**2 + x_lt**2 + x_st**3 + x_sw**3 + x_lt**3',\n",
    "        discount_deltas=True,\n",
    "        on_progress_update = on_progress\n",
    "    )\n",
    "    \n",
    "btn_calc_value_progress = ipw.Button(description='Calc Storage Value')\n",
    "btn_calc_value_progress.on_click(btn_value_progress_clicked)\n",
    "display(btn_calc_value_progress)\n",
    "display(progress_wgt)"
   ]
  },
  {
   "cell_type": "markdown",
   "metadata": {},
   "source": [
    "<a id='logging'></a>\n",
    "### Loggging\n",
    "The cmdty_storage package makes use of the [standard Python logging module](https://docs.python.org/3/library/logging.html) by exposing a logger object at the level of the multi_factor module, which will be created with the name 'cmdty.storage.multi-factor'. A log handler can be added to this in order to direct the logged information to the desired destination. See the [logging advanced tutorial](https://docs.python.org/3/howto/logging.html#logging-advanced-tutorial) for more information on using appenders.\n",
    "\n",
    "The following uses slightly modified code from an example in the ipywideget [documentation](https://ipywidgets.readthedocs.io/en/latest/examples/Output%20Widget.html#Integrating-output-widgets-with-the-logging-module) to create a custom logging handler which prints to an [Output widget](https://ipywidgets.readthedocs.io/en/latest/examples/Output%20Widget.html)."
   ]
  },
  {
   "cell_type": "code",
   "execution_count": 36,
   "metadata": {},
   "outputs": [
    {
     "data": {
      "application/vnd.jupyter.widget-view+json": {
       "model_id": "e33e06b486bd45e0bb5978811248b0f8",
       "version_major": 2,
       "version_minor": 0
      },
      "text/plain": [
       "Button(description='Calc Storage Value', style=ButtonStyle())"
      ]
     },
     "metadata": {},
     "output_type": "display_data"
    },
    {
     "data": {
      "application/vnd.jupyter.widget-view+json": {
       "model_id": "bdee5bec6af445c6be7cb9fdd2358992",
       "version_major": 2,
       "version_minor": 0
      },
      "text/plain": [
       "Button(description='Clear Logs', style=ButtonStyle())"
      ]
     },
     "metadata": {},
     "output_type": "display_data"
    },
    {
     "data": {
      "application/vnd.jupyter.widget-view+json": {
       "model_id": "8be4ad77d9b54dbd9b9e1f55592f272c",
       "version_major": 2,
       "version_minor": 0
      },
      "text/plain": [
       "Output(layout=Layout(border='1px solid black', height='160px', overflow_y='auto', width='100%'))"
      ]
     },
     "metadata": {},
     "output_type": "display_data"
    }
   ],
   "source": [
    "from cmdty_storage import multi_factor\n",
    "import logging\n",
    "\n",
    "class OutputWidgetHandler(logging.Handler):\n",
    "    \"\"\" Custom logging handler sending logs to an output widget \"\"\"\n",
    "\n",
    "    def __init__(self, *args, **kwargs):\n",
    "        super(OutputWidgetHandler, self).__init__(*args, **kwargs)\n",
    "        layout = {\n",
    "            'width': '100%',\n",
    "            'height': '160px',\n",
    "            'border': '1px solid black',\n",
    "            'overflow_y': 'auto',\n",
    "        }\n",
    "        self.out = ipw.Output(layout=layout)\n",
    "\n",
    "    def emit(self, record):\n",
    "        \"\"\" Overload of logging.Handler method \"\"\"\n",
    "        formatted_record = self.format(record)\n",
    "        new_output = {\n",
    "            'name': 'stdout',\n",
    "            'output_type': 'stream',\n",
    "            'text': formatted_record+'\\n'\n",
    "        }\n",
    "        self.out.outputs = self.out.outputs + (new_output, )\n",
    "\n",
    "    def show_logs(self):\n",
    "        \"\"\" Show the logs \"\"\"\n",
    "        display(self.out)\n",
    "\n",
    "    def clear_logs(self):\n",
    "        \"\"\" Clear the current logs \"\"\"\n",
    "        self.out.clear_output()\n",
    "\n",
    "handler = OutputWidgetHandler()\n",
    "handler.setFormatter(logging.Formatter('%(asctime)s  - [%(levelname)s] %(message)s'))\n",
    "\n",
    "multi_factor.logger.setLevel(logging.INFO)\n",
    "\n",
    "def btn_value_logging_clicked(b):\n",
    "    multi_factor.logger.addHandler(handler)\n",
    "    logging_demo_results = three_factor_seasonal_value(\n",
    "        cmdty_storage = storage,\n",
    "        val_date = '2021-04-25',\n",
    "        inventory = 1500.0,\n",
    "        fwd_curve = fwd_curve,\n",
    "        interest_rates = ir_curve,\n",
    "        settlement_rule = lambda decision_date: decision_date.asfreq('M').asfreq('D', 'end') + 20,\n",
    "        spot_mean_reversion = 45.0,\n",
    "        spot_vol = 0.65,\n",
    "        long_term_vol = 0.21,\n",
    "        seasonal_vol = 0.18,\n",
    "        num_sims = 500,\n",
    "        basis_funcs = '1 + x_st + x_sw + x_lt + x_st**2 + x_sw**2 + x_lt**2 + x_st**3 + x_sw**3 + x_lt**3',\n",
    "        discount_deltas=True,\n",
    "    )\n",
    "    multi_factor.logger.removeHandler(handler)\n",
    "\n",
    "def btn_on_clear_logs_clicked(b):\n",
    "    handler.clear_logs()\n",
    "    \n",
    "btn_calc_value_logging = ipw.Button(description='Calc Storage Value')\n",
    "btn_calc_value_logging.on_click(btn_value_logging_clicked)\n",
    "display(btn_calc_value_logging)\n",
    "\n",
    "btn_clear_logs = ipw.Button(description='Clear Logs')\n",
    "btn_clear_logs.on_click(btn_on_clear_logs_clicked)\n",
    "display(btn_clear_logs)\n",
    "\n",
    "handler.show_logs()"
   ]
  }
 ],
 "metadata": {
  "kernelspec": {
   "display_name": "Python 3",
   "language": "python",
   "name": "python3"
  },
  "language_info": {
   "codemirror_mode": {
    "name": "ipython",
    "version": 3
   },
   "file_extension": ".py",
   "mimetype": "text/x-python",
   "name": "python",
   "nbconvert_exporter": "python",
   "pygments_lexer": "ipython3",
   "version": "3.7.1"
  }
 },
 "nbformat": 4,
 "nbformat_minor": 2
}
