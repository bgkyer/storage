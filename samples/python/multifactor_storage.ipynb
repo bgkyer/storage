{
 "cells": [
  {
   "cell_type": "markdown",
   "metadata": {},
   "source": [
    "## Table of Contents\n",
    "* [Introduction](#introduction)\n",
    "* [Model Inputs](#model_inputs)\n",
    "    * [Model-Independent Inputs](#common_model_independent_inputs)\n",
    "        * [Storage Object](#storage_object)\n",
    "        * [Forward Curve](#forward_curve)\n",
    "        * [Interest Rates Curve](#interest_rates_curve)\n",
    "        * [Settlement Rule](#settlement_rule)\n",
    "        * [Valuation Date, Inventory and Discount Deltas](#val_date_inventory_discount_deltas)\n",
    "    * [Least Square Monte Carlo Common Inputs](#lsmc_specific_inputs)\n",
    "* [Three Factor Seasonal Model](#three_factor_seasonal)\n",
    "    * [Three Factor Seasonal Model Specific Inputs](#three_factor_seasonal_inputs)\n",
    "        * [Three Factor Price Dynamics Parameters](#three_factor_dynamics_parameters)\n",
    "        * [Three Factor Basis Functions](#three_factor_basis_functions)\n",
    "    * [Calling Three Factor Model](#calling_three_factor)\n",
    "* [Valuation Results](#valuation_results)\n",
    "    * [NPV Properties](#npv_properties)\n",
    "    * [Deltas](#deltas)\n",
    "    * [Intrinsic Profile](#intrinsic_profile)\n",
    "    * [Trigger Prices](#trigger_prices)\n",
    "    * [Simulated Values](#simulated_values)\n",
    "    * [Expected Profile](#expected_profile)\n",
    "\n",
    "* [Instrumentation](#instrumentation)\n",
    "    * [Progress Callback](#progress_callback)\n",
    "    * [Logging](#logging)\n"
   ]
  },
  {
   "cell_type": "markdown",
   "metadata": {},
   "source": [
    "<a id='introduction'></a>\n",
    "## Introduction\n",
    "This notebook describes how to value storage using the Least Squares Monte Carlo multi-factor valuation model using the Python API. As a prerequisite please first study the notebook [creating_storage_instances](creating_storage_instances.ipynb) which describes how to create instances of CmdtyStorage which represent the storage facility.\n",
    "\n"
   ]
  },
  {
   "cell_type": "code",
   "execution_count": 2,
   "metadata": {},
   "outputs": [],
   "source": [
    "# Common Imports\n",
    "from cmdty_storage import CmdtyStorage, three_factor_seasonal_value, multi_factor_value\n",
    "import pandas as pd\n",
    "import ipywidgets as ipw\n",
    "from IPython.display import display"
   ]
  },
  {
   "cell_type": "markdown",
   "metadata": {},
   "source": [
    "<a id='common_model_inputs'></a>\n",
    "## Common Model Inputs\n",
    "This section describes the inputs which are common between three factor seasonal valuation model and the more general multi-factor model.\n",
    "<a id='model_independent_inputs'></a>\n",
    "### Model-Independent Inputs\n",
    "The following inputs would always be necessary for any methodology for valuing storage, irrespective of what model is used.\n",
    "\n",
    "<a id='storage_object'></a>\n",
    "#### Storage Object\n",
    "For all examples the following storage with ratchets is used. See the notebook [creating_storage_instances](creating_storage_instances.ipynb) which describes the various other ways of creating CmdtyStorage instances depending on the characteristics of the storage facility being modelled."
   ]
  },
  {
   "cell_type": "code",
   "execution_count": 3,
   "metadata": {},
   "outputs": [],
   "source": [
    "storage = CmdtyStorage(\n",
    "    freq='D',\n",
    "    storage_start = '2021-04-01',\n",
    "    storage_end = '2022-04-01',\n",
    "    injection_cost = 0.1,\n",
    "    withdrawal_cost = 0.25,\n",
    "    constraints= [\n",
    "                ('2021-04-01', # For days after 2021-04-01 (inclusive) until 2022-10-01 (exclusive):\n",
    "                       [\n",
    "                            (0.0, -150.0, 250.0),    # At min inventory of zero, max withdrawal of 150, max injection 250\n",
    "                            (2000.0, -200.0, 175.0), # At inventory of 2000, max withdrawal of 200, max injection 175\n",
    "                            (5000.0, -260.0, 155.0), # At inventory of 5000, max withdrawal of 260, max injection 155\n",
    "                            (7000.0, -275.0, 132.0), # At max inventory of 7000, max withdrawal of 275, max injection 132\n",
    "                        ]),\n",
    "                  ('2022-10-01', # For days after 2022-10-01 (inclusive):\n",
    "                       [\n",
    "                            (0.0, -130.0, 260.0),    # At min inventory of zero, max withdrawal of 130, max injection 260\n",
    "                            (2000.0, -190.0, 190.0), # At inventory of 2000, max withdrawal of 190, max injection 190\n",
    "                            (5000.0, -230.0, 165.0), # At inventory of 5000, max withdrawal of 230, max injection 165\n",
    "                            (7000.0, -245.0, 148.0), # At max inventory of 7000, max withdrawal of 245, max injection 148\n",
    "                        ]),\n",
    "                 ]\n",
    ")"
   ]
  },
  {
   "cell_type": "markdown",
   "metadata": {},
   "source": [
    "<a id='forward_curve'></a>\n",
    "#### Forward Curve\n",
    "The following natural gas forward curve is used in all examples. This is a monthly curve, converted to daily granularity with piecewise flat interpolation. To create smooth daily curves, with day-of-week seasonality see [Cmdty Curves](https://github.com/cmdty/curves)."
   ]
  },
  {
   "cell_type": "code",
   "execution_count": 4,
   "metadata": {},
   "outputs": [
    {
     "data": {
      "text/plain": [
       "<matplotlib.axes._subplots.AxesSubplot at 0x1d4d885ebe0>"
      ]
     },
     "execution_count": 4,
     "metadata": {},
     "output_type": "execute_result"
    },
    {
     "data": {
      "image/png": "[encoded data removed]",
      "text/plain": [
       "<Figure size 432x288 with 1 Axes>"
      ]
     },
     "metadata": {
      "needs_background": "light"
     },
     "output_type": "display_data"
    }
   ],
   "source": [
    "monthly_index = pd.period_range(start='2021-04-25', periods=25, freq='M')\n",
    "monthly_fwd_prices = [16.61, 15.68, 15.42, 15.31, 15.27, 15.13, 15.96, 17.22, 17.32, 17.66, \n",
    "                      17.59, 16.81, 15.36, 14.49, 14.28, 14.25, 14.32, 14.33, 15.30, 16.58, \n",
    "                      16.64, 16.79, 16.64, 15.90, 14.63]\n",
    "fwd_curve = pd.Series(data=monthly_fwd_prices, index=monthly_index).resample('D').fillna('pad')\n",
    "%matplotlib inline\n",
    "fwd_curve.plot(title='Forward Curve')"
   ]
  },
  {
   "cell_type": "markdown",
   "metadata": {},
   "source": [
    "<a id='interest_rates_curve'></a>\n",
    "#### Interest Rates Curve\n",
    "Act/365 continuously compounded interest rates are provided as a Pandas Series instance. In these examples, for simplicity a linearly interpolated rates curve is used. "
   ]
  },
  {
   "cell_type": "code",
   "execution_count": 5,
   "metadata": {},
   "outputs": [
    {
     "data": {
      "text/plain": [
       "<matplotlib.axes._subplots.AxesSubplot at 0x1d4d95972e8>"
      ]
     },
     "execution_count": 5,
     "metadata": {},
     "output_type": "execute_result"
    },
    {
     "data": {
      "image/png": "[encoded data removed]",
      "text/plain": [
       "<Figure size 432x288 with 1 Axes>"
      ]
     },
     "metadata": {
      "needs_background": "light"
     },
     "output_type": "display_data"
    }
   ],
   "source": [
    "rates = [0.005, 0.006, 0.0072, 0.0087, 0.0101, 0.0115, 0.0126]\n",
    "rates_pillars = pd.PeriodIndex(freq='D', data=['2021-04-25', '2021-06-01', '2021-08-01', '2021-12-01', '2022-04-01', \n",
    "                                              '2022-12-01', '2023-12-01'])\n",
    "ir_curve = pd.Series(data=rates, index=rates_pillars).resample('D').asfreq('D').interpolate(method='linear')\n",
    "ir_curve.plot(title='Interest Rate Curve')"
   ]
  },
  {
   "cell_type": "markdown",
   "metadata": {},
   "source": [
    "<a id='settlement_rule'></a>\n",
    "#### Settlement Rule\n",
    "This is a mapping from delivery period to the date on which cash settlement occurs. In a real-world usage scenario this would depend on the settlement rules for the forward market used to trade around the storage.\n",
    "\n",
    "In the example below this is expressed as a function which maps to the 20th day of the following month."
   ]
  },
  {
   "cell_type": "code",
   "execution_count": 6,
   "metadata": {},
   "outputs": [],
   "source": [
    "def settlement_rule(delivery_date):\n",
    "    return delivery_date.asfreq('M').asfreq('D', 'end') + 20"
   ]
  },
  {
   "cell_type": "markdown",
   "metadata": {},
   "source": [
    "<a id='val_date_inventory_discount_deltas'></a>\n",
    "#### Valuation Date, Inventory and Discount Deltas.\n",
    "* **val_date** is the current time period as of when the valuation is performed. In this example as string is used, but instances of date, datetime or pandas.Period are also admissible.\n",
    "* **inventory** is the current volume of commodity held in storage.\n",
    "* **discount_deltas** is a boolean flag indicating whether the deltas should be either:\n",
    "    * True: discounted and as such maintain the definition of a sensitivity of the NPV to the forward price as a partial derivative.\n",
    "    * False: in the case where the forward market is OTC and not margined, then the undiscounted deltas calculated can be used as the negative of the forward hedge to maintain delta neutrality. This is because a single unit of non-marginned forward has a delta of one discounted.  "
   ]
  },
  {
   "cell_type": "code",
   "execution_count": 7,
   "metadata": {},
   "outputs": [],
   "source": [
    "val_date = '2021-04-25'\n",
    "inventory = 1500.0\n",
    "discount_deltas=True"
   ]
  },
  {
   "cell_type": "markdown",
   "metadata": {},
   "source": [
    "<a id='lsmc_specific_inputs'></a>\n",
    "### Least Square Monte Carlo Specific Inputs\n",
    "The following are inputs to both the Three Factor Seasonal model and the more general Multi-Factor Model.\n",
    "* **num_sims** is the number of Monte Carlo simulations (or paths) used for the valuation. The higher this integer is, the more accurate the valuation will be, but the slower it will take to calculate.\n",
    "* **seed** is an optional integer argument which is used as the seed to the Mersenne Twister random number generator. With all other inputs being equal, repeated runs of the valuation with the same seed will create identical simulated spot price paths. If the seed is omitted, a random seed will be used, and hence different spot prices will be generated even if all of the other inputs are identical. Specifying a seed is advisable in production usage as you will to be able to reproduce a valuation at any other time.\n",
    "* **fwd_sim_seed** is another optional integer argument used if you want to specify the seed for the second forward spot price simulation. If omitted, unlike for when the seed argument is omitted, the second spot price will not use a random seed, rather it will use a continuation of the stream of random numbers generated by the first simulations, used for regressions. "
   ]
  },
  {
   "cell_type": "code",
   "execution_count": 8,
   "metadata": {},
   "outputs": [],
   "source": [
    "num_sims = 500\n",
    "seed = 12\n",
    "fwd_sim_seed = 25"
   ]
  },
  {
   "cell_type": "markdown",
   "metadata": {},
   "source": [
    "<a id='three_factor_seasonal'></a>\n",
    "## Three Factor Seasonal Model\n",
    "This section gives an example of using the storage valuation model where the commodity price dynamics are assumed to follow a three-factor seasonal model. The stochastic price model is described in [this paper](https://github.com/cmdty/core/blob/master/docs/three_factor_seasonal_model/three_factor_seasonal_model.pdf), which is a special case of the more general [multi-factor model](https://github.com/cmdty/core/blob/master/docs/multifactor_price_process/multifactor_price_process.pdf). The three factor model is particularly suited power and natural gas which show seaonality in the volatility and correlation. TODO reference Kyos paper.\n",
    "\n",
    "<a id='three_factor_seasonal_inputs'></a>\n",
    "### Three Factor Seasonal Model Specific Inputs\n",
    "The following inputs are specific to the three-factor seasonal model.\n",
    "\n",
    "\n",
    "<a id='three_factor_dynamics_parameters'></a>\n",
    "#### Three Factor Price Dynamics Parameters\n",
    "First there are four numeric arguments which determine the spot price dynamics. See the [the three-factor paper](https://github.com/cmdty/core/blob/master/docs/three_factor_seasonal_model/three_factor_seasonal_model.pdf) for a description and details of calibration."
   ]
  },
  {
   "cell_type": "code",
   "execution_count": 9,
   "metadata": {},
   "outputs": [],
   "source": [
    "spot_mean_reversion = 45.0\n",
    "spot_vol = 0.65\n",
    "long_term_vol = 0.21\n",
    "seasonal_vol = 0.18"
   ]
  },
  {
   "cell_type": "markdown",
   "metadata": {},
   "source": [
    "<a id='three_factor_basis_functions'></a>\n",
    "#### Three Factor Basis Functions\n",
    "The basis functions form an integral part of the Least Squares Monte Carlo valuation technique. Each basis function represents a linear component of the parameterisation of the expected continuation value given the inventory after an inject/withdraw decision. See the [original paper](https://people.math.ethz.ch/~hjfurrer/teaching/LongstaffSchwartzAmericanOptionsLeastSquareMonteCarlo.pdf) by Longstaff and Schwartz for further details of the significance of basis functions in the valuation of financial derivatives.\n",
    "\n",
    "The **basis_funcs** argument should be assigned to a string with individual basis functions. The format of this string should be the individual basis function deliminted by the '+' character. Any whitespace can be included which does not change the semantics of the string. Each individual basis function can consist of the following components:\n",
    "* **1** for the contstant term. This should always be included on it's own, without multiplication with any other factors.\n",
    "* **s** for the spot price.\n",
    "* **x_st** for the short-term factor, the Brownian motion $z_{spot}(t)$.\n",
    "* **x_lt** for the long-term factor, the Brownian motion $z_{long}(t)$.\n",
    "* **x_sw** for the seasonal Summer-Winter factor, the Brownian motion $z_{seas}(t)$.\n",
    "\n",
    "These can be augmented with the following operators:\n",
    "* **\\*** to multiply components, e.g. 's * x_st' is the spot price multiplied by the short-term factor.\n",
    "* **\\*\\*** to raise to the power of, e.g. 'x_sw ** 2' is the Summer-Winter factor raised to the power of 2.\n",
    "\n",
    "The example below includes basis function for the first two powers of all four stochastic components, the product of the spot price and the short-term factor, and the constant term."
   ]
  },
  {
   "cell_type": "code",
   "execution_count": 10,
   "metadata": {},
   "outputs": [],
   "source": [
    "three_factor_basis_functions = '1 + x_st + x_sw + x_lt + s + x_st**2 + x_sw**2 + x_lt**2 + s**2 + s * x_st'"
   ]
  },
  {
   "cell_type": "markdown",
   "metadata": {},
   "source": [
    "<a id='calling_three_factor'></a>\n",
    "#### Calling the Three Factor Seasonal Model\n",
    "The three factor seasonal model can be run using the function **three_factor_seasonal_value**. This returns an instance of **MultiFactorValuationResults**, which has a property for the NPV, as printed in the example below. See the section [Valuation Results](#valuation_results) for more details on other information included in the results."
   ]
  },
  {
   "cell_type": "code",
   "execution_count": 11,
   "metadata": {},
   "outputs": [
    {
     "data": {
      "text/plain": [
       "'65,710'"
      ]
     },
     "execution_count": 11,
     "metadata": {},
     "output_type": "execute_result"
    }
   ],
   "source": [
    "three_factor_results = three_factor_seasonal_value(\n",
    "    cmdty_storage = storage,\n",
    "    val_date = val_date,\n",
    "    inventory = inventory,\n",
    "    fwd_curve = fwd_curve,\n",
    "    interest_rates = ir_curve,\n",
    "    settlement_rule = settlement_rule,\n",
    "    discount_deltas=discount_deltas,\n",
    "    num_sims = num_sims,\n",
    "    seed = seed,\n",
    "    fwd_sim_seed = fwd_sim_seed,\n",
    "    spot_mean_reversion = spot_mean_reversion,\n",
    "    spot_vol = spot_vol,\n",
    "    long_term_vol = long_term_vol,\n",
    "    seasonal_vol = seasonal_vol,\n",
    "    basis_funcs = three_factor_basis_functions\n",
    ")\n",
    "'{0:,.0f}'.format(three_factor_results.npv)"
   ]
  },
  {
   "cell_type": "markdown",
   "metadata": {},
   "source": [
    "<a id='multi_factor_model'></a>\n",
    "## General Multi-Factor Model\n",
    "This section gives an example of using the storage valuation model where the commodity price dynamics are assumed to follow the price dynamics described in the [this paper](https://github.com/cmdty/core/blob/master/docs/multifactor_price_process/multifactor_price_process.pdf). This model of price dynamics can be seen as a general framework which can be used to construct more specific commodity models based to the characteristics of the commodity.\n",
    "\n",
    "<a id='multi_factor_specific_inputs'></a>\n",
    "### Multi-Factor Model Specific Inputs\n",
    "The following inputs are specific to the multi-factor model.\n",
    "\n",
    "\n",
    "<a id='multi_factor_dynamics_parameters'></a>\n",
    "#### Multi Factor Price Dynamics Parameters\n",
    "Multi-factor price dynamics parameters are demonstrated below using an example of a two-factor model with one long-term non-mean reverting factor, and one short-term factor. Such a model could be suitable in commodities where there is no seasonality in volatility and there is strong correlation between different points on the forward curve. This could be suitable to model crude oil.\n",
    "\n",
    "##### Factor Volatility Curves and Mean Reversions\n",
    "The factors argument should be assigned to an iterable of tuples. The number of tuples equals the number of factors. Tuple $i$ should have two elements:\n",
    "\n",
    "1. The $i^{th}$ factor mean reversion, i.e. $\\alpha_i$ from the document, as a float\n",
    "2. The $i^{th}$ factor volatility function, i.e. $\\sigma_i(T)$, as a Pandas Series, with index of type PeriodIndex with frequency the same as that assigned to **freq** when creating the storage object.\n",
    "\n",
    "The example code below creates the factors as a list with constant factor volatility scalars."
   ]
  },
  {
   "cell_type": "code",
   "execution_count": 12,
   "metadata": {},
   "outputs": [],
   "source": [
    "# Parameters to a constant volatility 2-factor model\n",
    "long_term_vol = 0.14\n",
    "long_term_mean_reversion = 0.0\n",
    "short_term_vol = 0.64\n",
    "short_term_mean_reversion = 16.2\n",
    "\n",
    "# Create the factors argument to multi_factor_value\n",
    "factor_index = pd.period_range(start=val_date, end=storage.end, freq=storage.freq)\n",
    "long_term_vol_curve = pd.Series(index=factor_index, dtype='float64')\n",
    "long_term_vol_curve[:] = long_term_vol\n",
    "\n",
    "short_term_vol_curve = pd.Series(index=factor_index, dtype='float64')\n",
    "short_term_vol_curve[:] = short_term_vol\n",
    "\n",
    "factors = [(short_term_mean_reversion, short_term_vol_curve),\n",
    "          (long_term_mean_reversion, short_term_vol_curve)]"
   ]
  },
  {
   "cell_type": "markdown",
   "metadata": {},
   "source": [
    "##### Factor Correlations\n",
    "The correlation between the different driving Brownian motion factors is specified as a matrix where element $i, j$ corresponds to $\\rho_{i, j}$, the correlation between factors $i$ and $j$. For an n-factor model this should be an n by n 2-dimensional numpy ndarray. In the example below `factor_corrs_matrix` is created for this purpose.\n",
    "\n",
    "However, factors can be a different type in certain cases:\n",
    "* For a one-factor model factors can simple be None.\n",
    "* For a two-factor model a scalar of float type can be used. In the example below `factor_corrs` could be used without having to create the numpy array."
   ]
  },
  {
   "cell_type": "code",
   "execution_count": 28,
   "metadata": {},
   "outputs": [],
   "source": [
    "import numpy as np\n",
    "factor_corrs = 0.64\n",
    "factor_corrs_matrix = np.array([[1.0, factor_corrs], [factor_corrs, 1.0]])"
   ]
  },
  {
   "cell_type": "markdown",
   "metadata": {},
   "source": [
    "##### Multi-Factor Basis Functions\n",
    "The basis function string will be very similar to that described in [Three Factor Basis Functions](#Three-Factor-Basis-Functions) section above. The only difference is that instead of **x_st**, **x_lt** and **x_sw**, string in the form **xi**, where i is the factor index, starting at 0 for the first factor. For example use **x0** for the first factor, **x1** for the second factor and so on. Hence i should only be used with values from 0 to n-1 for an n-factor model.\n",
    "\n",
    "The the example below `multi_factor_basis_funcs` is created to use the first two powers for both factors and the spot price, as well as all cross-products between factors and the spot price, and finally the constant term."
   ]
  },
  {
   "cell_type": "code",
   "execution_count": 32,
   "metadata": {},
   "outputs": [],
   "source": [
    "multi_factor_basis_funcs = '1 + x0 + x1 + s + x0**2 + x1**2 + s**2 + x0*x1 + x1*s + x0*s'"
   ]
  },
  {
   "cell_type": "markdown",
   "metadata": {},
   "source": [
    "<a id='calling_multi_factor'></a>\n",
    "#### Calling the Multi Factor Model\n",
    "The multi-factor model can be run using the function **multi_factor_value**. This returns an instance of **MultiFactorValuationResults**, which has a property for the NPV, as printed in the example below. See the section [Valuation Results](#valuation_results) for more details on other information included in the results."
   ]
  },
  {
   "cell_type": "code",
   "execution_count": 33,
   "metadata": {},
   "outputs": [
    {
     "data": {
      "text/plain": [
       "'63,505'"
      ]
     },
     "execution_count": 33,
     "metadata": {},
     "output_type": "execute_result"
    }
   ],
   "source": [
    "multi_factor_results = multi_factor_value(\n",
    "    cmdty_storage = storage,\n",
    "    val_date = val_date,\n",
    "    inventory = inventory,\n",
    "    fwd_curve = fwd_curve,\n",
    "    interest_rates = ir_curve,\n",
    "    settlement_rule = settlement_rule,\n",
    "    discount_deltas=discount_deltas,\n",
    "    num_sims = num_sims,\n",
    "    seed = seed,\n",
    "    fwd_sim_seed = fwd_sim_seed,\n",
    "    factors = factors,\n",
    "    factor_corrs = factor_corrs_matrix,\n",
    "    basis_funcs = multi_factor_basis_funcs\n",
    ")\n",
    "'{0:,.0f}'.format(multi_factor_results.npv)"
   ]
  },
  {
   "cell_type": "markdown",
   "metadata": {},
   "source": [
    "<a id='valuation_results'></a>\n",
    "## Valuation Results\n",
    "Both functions **three_factor_seasonal_value** **multi_factor_value** above return a instances of **MultiFactorValuationResults**. This class derives from NamedTuple and has many properties for the results of the optimisation, plus other metadata from the calculations. The subsections below describe these properties.\n",
    "\n",
    "<a id='npv_properties'></a>\n",
    "### NPV Properties\n",
    "The the following attributes give information on the NPV (Net Present Value):\n",
    "* **npv** is the full NPV including the option value.\n",
    "* **intrinsic_npv** is the NPV calculated using a static optimisation assuming prices are deterministic, i.e. giving the storage no option value.\n",
    "* **extrinsic_npv** is the value of just the optionality, i.e. npv minus intrinsic_npv."
   ]
  },
  {
   "cell_type": "code",
   "execution_count": 16,
   "metadata": {},
   "outputs": [
    {
     "name": "stdout",
     "output_type": "stream",
     "text": [
      "Full NPV:\t65,710\n",
      "Intrinsic NPV: \t38,446\n",
      "Extrinsic NPV: \t27,264\n"
     ]
    }
   ],
   "source": [
    "print('Full NPV:\\t{0:,.0f}'.format(three_factor_results.npv))\n",
    "print('Intrinsic NPV: \\t{0:,.0f}'.format(three_factor_results.intrinsic_npv))\n",
    "print('Extrinsic NPV: \\t{0:,.0f}'.format(three_factor_results.extrinsic_npv))"
   ]
  },
  {
   "cell_type": "markdown",
   "metadata": {},
   "source": [
    "<a id='deltas'></a>\n",
    "### Deltas\n",
    "The **deltas** property is of type pandas.Series and contains the senstivity of the full NPV to the forward price, for each future period. This is calculated using pathwise differentiation as part of the Monte Carlo simulation, hence if not many simulation paths are used, as in this example, it can look quite jagged. With a higher number of simulations this should look smoother."
   ]
  },
  {
   "cell_type": "code",
   "execution_count": 17,
   "metadata": {},
   "outputs": [
    {
     "data": {
      "text/plain": [
       "<matplotlib.axes._subplots.AxesSubplot at 0x1d4da839cc0>"
      ]
     },
     "execution_count": 17,
     "metadata": {},
     "output_type": "execute_result"
    },
    {
     "data": {
      "image/png": "[encoded data removed]",
      "text/plain": [
       "<Figure size 432x288 with 1 Axes>"
      ]
     },
     "metadata": {
      "needs_background": "light"
     },
     "output_type": "display_data"
    }
   ],
   "source": [
    "three_factor_results.deltas.plot(title='Deltas')"
   ]
  },
  {
   "cell_type": "markdown",
   "metadata": {},
   "source": [
    "<a id='intrinsic_profile'></a>\n",
    "### Intrinsic Profile\n",
    "The **intrinsic_profile** property is of type pandas.DataFrame and contains information for each future time period on the optimisation performed for the intrinsic valuation. "
   ]
  },
  {
   "cell_type": "code",
   "execution_count": 18,
   "metadata": {},
   "outputs": [
    {
     "data": {
      "text/html": [
       "<div>\n",
       "<style scoped>\n",
       "    .dataframe tbody tr th:only-of-type {\n",
       "        vertical-align: middle;\n",
       "    }\n",
       "\n",
       "    .dataframe tbody tr th {\n",
       "        vertical-align: top;\n",
       "    }\n",
       "\n",
       "    .dataframe thead th {\n",
       "        text-align: right;\n",
       "    }\n",
       "</style>\n",
       "<table border=\"1\" class=\"dataframe\">\n",
       "  <thead>\n",
       "    <tr style=\"text-align: right;\">\n",
       "      <th></th>\n",
       "      <th>inventory</th>\n",
       "      <th>inject_withdraw_volume</th>\n",
       "      <th>cmdty_consumed</th>\n",
       "      <th>inventory_loss</th>\n",
       "      <th>net_volume</th>\n",
       "      <th>period_pv</th>\n",
       "    </tr>\n",
       "  </thead>\n",
       "  <tbody>\n",
       "    <tr>\n",
       "      <th>2021-04-25</th>\n",
       "      <td>1312.500000</td>\n",
       "      <td>-187.500000</td>\n",
       "      <td>0.0</td>\n",
       "      <td>0.0</td>\n",
       "      <td>187.500000</td>\n",
       "      <td>3066.289538</td>\n",
       "    </tr>\n",
       "    <tr>\n",
       "      <th>2021-04-26</th>\n",
       "      <td>1129.687500</td>\n",
       "      <td>-182.812500</td>\n",
       "      <td>0.0</td>\n",
       "      <td>0.0</td>\n",
       "      <td>182.812500</td>\n",
       "      <td>2989.632929</td>\n",
       "    </tr>\n",
       "    <tr>\n",
       "      <th>2021-04-27</th>\n",
       "      <td>951.445312</td>\n",
       "      <td>-178.242188</td>\n",
       "      <td>0.0</td>\n",
       "      <td>0.0</td>\n",
       "      <td>178.242188</td>\n",
       "      <td>2914.892726</td>\n",
       "    </tr>\n",
       "    <tr>\n",
       "      <th>2021-04-28</th>\n",
       "      <td>777.659180</td>\n",
       "      <td>-173.786133</td>\n",
       "      <td>0.0</td>\n",
       "      <td>0.0</td>\n",
       "      <td>173.786133</td>\n",
       "      <td>2842.021019</td>\n",
       "    </tr>\n",
       "    <tr>\n",
       "      <th>2021-04-29</th>\n",
       "      <td>608.217700</td>\n",
       "      <td>-169.441479</td>\n",
       "      <td>0.0</td>\n",
       "      <td>0.0</td>\n",
       "      <td>169.441479</td>\n",
       "      <td>2770.971096</td>\n",
       "    </tr>\n",
       "    <tr>\n",
       "      <th>...</th>\n",
       "      <td>...</td>\n",
       "      <td>...</td>\n",
       "      <td>...</td>\n",
       "      <td>...</td>\n",
       "      <td>...</td>\n",
       "      <td>...</td>\n",
       "    </tr>\n",
       "    <tr>\n",
       "      <th>2022-03-28</th>\n",
       "      <td>0.000000</td>\n",
       "      <td>0.000000</td>\n",
       "      <td>0.0</td>\n",
       "      <td>0.0</td>\n",
       "      <td>-0.000000</td>\n",
       "      <td>-0.000000</td>\n",
       "    </tr>\n",
       "    <tr>\n",
       "      <th>2022-03-29</th>\n",
       "      <td>0.000000</td>\n",
       "      <td>0.000000</td>\n",
       "      <td>0.0</td>\n",
       "      <td>0.0</td>\n",
       "      <td>-0.000000</td>\n",
       "      <td>-0.000000</td>\n",
       "    </tr>\n",
       "    <tr>\n",
       "      <th>2022-03-30</th>\n",
       "      <td>0.000000</td>\n",
       "      <td>0.000000</td>\n",
       "      <td>0.0</td>\n",
       "      <td>0.0</td>\n",
       "      <td>-0.000000</td>\n",
       "      <td>-0.000000</td>\n",
       "    </tr>\n",
       "    <tr>\n",
       "      <th>2022-03-31</th>\n",
       "      <td>0.000000</td>\n",
       "      <td>0.000000</td>\n",
       "      <td>0.0</td>\n",
       "      <td>0.0</td>\n",
       "      <td>-0.000000</td>\n",
       "      <td>-0.000000</td>\n",
       "    </tr>\n",
       "    <tr>\n",
       "      <th>2022-04-01</th>\n",
       "      <td>0.000000</td>\n",
       "      <td>0.000000</td>\n",
       "      <td>0.0</td>\n",
       "      <td>0.0</td>\n",
       "      <td>0.000000</td>\n",
       "      <td>0.000000</td>\n",
       "    </tr>\n",
       "  </tbody>\n",
       "</table>\n",
       "<p>342 rows × 6 columns</p>\n",
       "</div>"
      ],
      "text/plain": [
       "              inventory  inject_withdraw_volume  cmdty_consumed  \\\n",
       "2021-04-25  1312.500000             -187.500000             0.0   \n",
       "2021-04-26  1129.687500             -182.812500             0.0   \n",
       "2021-04-27   951.445312             -178.242188             0.0   \n",
       "2021-04-28   777.659180             -173.786133             0.0   \n",
       "2021-04-29   608.217700             -169.441479             0.0   \n",
       "...                 ...                     ...             ...   \n",
       "2022-03-28     0.000000                0.000000             0.0   \n",
       "2022-03-29     0.000000                0.000000             0.0   \n",
       "2022-03-30     0.000000                0.000000             0.0   \n",
       "2022-03-31     0.000000                0.000000             0.0   \n",
       "2022-04-01     0.000000                0.000000             0.0   \n",
       "\n",
       "            inventory_loss  net_volume    period_pv  \n",
       "2021-04-25             0.0  187.500000  3066.289538  \n",
       "2021-04-26             0.0  182.812500  2989.632929  \n",
       "2021-04-27             0.0  178.242188  2914.892726  \n",
       "2021-04-28             0.0  173.786133  2842.021019  \n",
       "2021-04-29             0.0  169.441479  2770.971096  \n",
       "...                    ...         ...          ...  \n",
       "2022-03-28             0.0   -0.000000    -0.000000  \n",
       "2022-03-29             0.0   -0.000000    -0.000000  \n",
       "2022-03-30             0.0   -0.000000    -0.000000  \n",
       "2022-03-31             0.0   -0.000000    -0.000000  \n",
       "2022-04-01             0.0    0.000000     0.000000  \n",
       "\n",
       "[342 rows x 6 columns]"
      ]
     },
     "execution_count": 18,
     "metadata": {},
     "output_type": "execute_result"
    }
   ],
   "source": [
    "three_factor_results.intrinsic_profile"
   ]
  },
  {
   "cell_type": "markdown",
   "metadata": {},
   "source": [
    "<a id='trigger_prices'></a>\n",
    "### Trigger Prices\n",
    "The **trigger_prices** property contains information on \"trigger prices\" which are approximate spot price levels at which the exercise decision changes.\n",
    "* The withdraw trigger price is the spot price level, at time of nomination, above which the optimal decision will change to withdraw.\n",
    "* The inject trigger price is the spot price level, at time of nomination, below which the optimal decision will change to inject.\n",
    "\n",
    "The columns 'withdraw_volume' and 'inject_volume' contain the volume in withdrawn or injected at the trigger prices respectively. Note that these volumes could have lower absolute value to the storage maximum withdrawal and injection rates, because inventory constraints might mean that these decision volumes aren't achievable."
   ]
  },
  {
   "cell_type": "code",
   "execution_count": 19,
   "metadata": {},
   "outputs": [
    {
     "data": {
      "text/html": [
       "<div>\n",
       "<style scoped>\n",
       "    .dataframe tbody tr th:only-of-type {\n",
       "        vertical-align: middle;\n",
       "    }\n",
       "\n",
       "    .dataframe tbody tr th {\n",
       "        vertical-align: top;\n",
       "    }\n",
       "\n",
       "    .dataframe thead th {\n",
       "        text-align: right;\n",
       "    }\n",
       "</style>\n",
       "<table border=\"1\" class=\"dataframe\">\n",
       "  <thead>\n",
       "    <tr style=\"text-align: right;\">\n",
       "      <th></th>\n",
       "      <th>inject_volume</th>\n",
       "      <th>inject_trigger_price</th>\n",
       "      <th>withdraw_volume</th>\n",
       "      <th>withdraw_trigger_price</th>\n",
       "    </tr>\n",
       "  </thead>\n",
       "  <tbody>\n",
       "    <tr>\n",
       "      <th>2021-04-25</th>\n",
       "      <td>193.750000</td>\n",
       "      <td>15.879055</td>\n",
       "      <td>-187.500000</td>\n",
       "      <td>16.203189</td>\n",
       "    </tr>\n",
       "    <tr>\n",
       "      <th>2021-04-26</th>\n",
       "      <td>200.781250</td>\n",
       "      <td>15.864622</td>\n",
       "      <td>-182.812500</td>\n",
       "      <td>16.152201</td>\n",
       "    </tr>\n",
       "    <tr>\n",
       "      <th>2021-04-27</th>\n",
       "      <td>205.973887</td>\n",
       "      <td>15.864236</td>\n",
       "      <td>-179.350742</td>\n",
       "      <td>16.208147</td>\n",
       "    </tr>\n",
       "    <tr>\n",
       "      <th>2021-04-28</th>\n",
       "      <td>210.473887</td>\n",
       "      <td>15.848927</td>\n",
       "      <td>-176.350742</td>\n",
       "      <td>16.180476</td>\n",
       "    </tr>\n",
       "    <tr>\n",
       "      <th>2021-04-29</th>\n",
       "      <td>214.879168</td>\n",
       "      <td>15.818784</td>\n",
       "      <td>-173.413888</td>\n",
       "      <td>16.158915</td>\n",
       "    </tr>\n",
       "    <tr>\n",
       "      <th>2021-04-30</th>\n",
       "      <td>218.814653</td>\n",
       "      <td>15.787256</td>\n",
       "      <td>-170.790231</td>\n",
       "      <td>16.196549</td>\n",
       "    </tr>\n",
       "    <tr>\n",
       "      <th>2021-05-01</th>\n",
       "      <td>222.526604</td>\n",
       "      <td>15.798007</td>\n",
       "      <td>-168.315597</td>\n",
       "      <td>16.157545</td>\n",
       "    </tr>\n",
       "    <tr>\n",
       "      <th>2021-05-02</th>\n",
       "      <td>219.228600</td>\n",
       "      <td>15.778663</td>\n",
       "      <td>-170.514267</td>\n",
       "      <td>16.158552</td>\n",
       "    </tr>\n",
       "    <tr>\n",
       "      <th>2021-05-03</th>\n",
       "      <td>216.217963</td>\n",
       "      <td>15.760800</td>\n",
       "      <td>-172.521358</td>\n",
       "      <td>16.075569</td>\n",
       "    </tr>\n",
       "    <tr>\n",
       "      <th>2021-05-04</th>\n",
       "      <td>213.030933</td>\n",
       "      <td>15.781501</td>\n",
       "      <td>-174.646045</td>\n",
       "      <td>16.130168</td>\n",
       "    </tr>\n",
       "  </tbody>\n",
       "</table>\n",
       "</div>"
      ],
      "text/plain": [
       "            inject_volume  inject_trigger_price  withdraw_volume  \\\n",
       "2021-04-25     193.750000             15.879055      -187.500000   \n",
       "2021-04-26     200.781250             15.864622      -182.812500   \n",
       "2021-04-27     205.973887             15.864236      -179.350742   \n",
       "2021-04-28     210.473887             15.848927      -176.350742   \n",
       "2021-04-29     214.879168             15.818784      -173.413888   \n",
       "2021-04-30     218.814653             15.787256      -170.790231   \n",
       "2021-05-01     222.526604             15.798007      -168.315597   \n",
       "2021-05-02     219.228600             15.778663      -170.514267   \n",
       "2021-05-03     216.217963             15.760800      -172.521358   \n",
       "2021-05-04     213.030933             15.781501      -174.646045   \n",
       "\n",
       "            withdraw_trigger_price  \n",
       "2021-04-25               16.203189  \n",
       "2021-04-26               16.152201  \n",
       "2021-04-27               16.208147  \n",
       "2021-04-28               16.180476  \n",
       "2021-04-29               16.158915  \n",
       "2021-04-30               16.196549  \n",
       "2021-05-01               16.157545  \n",
       "2021-05-02               16.158552  \n",
       "2021-05-03               16.075569  \n",
       "2021-05-04               16.130168  "
      ]
     },
     "metadata": {},
     "output_type": "display_data"
    },
    {
     "data": {
      "text/plain": [
       "<matplotlib.legend.Legend at 0x1d4dcee3400>"
      ]
     },
     "execution_count": 19,
     "metadata": {},
     "output_type": "execute_result"
    },
    {
     "data": {
      "image/png": "[encoded data removed]",
      "text/plain": [
       "<Figure size 432x288 with 1 Axes>"
      ]
     },
     "metadata": {
      "needs_background": "light"
     },
     "output_type": "display_data"
    }
   ],
   "source": [
    "display(three_factor_results.trigger_prices[0:10])\n",
    "\n",
    "ax = three_factor_results.trigger_prices['inject_trigger_price'].plot(\n",
    "    title='Trigger Prices Versus Forward Curve', legend=True)\n",
    "three_factor_results.trigger_prices['withdraw_trigger_price'].plot(legend=True)\n",
    "fwd_curve['2021-04-25' : '2022-04-01'].plot(legend=True)\n",
    "ax.legend(['Inject Trigger Price', 'Withdraw Trigger', 'Forward Curve'])\n"
   ]
  },
  {
   "cell_type": "markdown",
   "metadata": {},
   "source": [
    "<a id='simulated_values'></a>\n",
    "### Simulated Values\n",
    "**MultiFactorValuationResults** has a number of properties of type pandas.DataFrame which information at the individual simulation level from the internals of the Least Squares Monte Carlo valuation. For each of these DataFrame instances will have index (row label) of type PeriodIndex with frequency corresponding to the frequency string **freq** argument and correspond to the periods for which the storage is active. The column labels will be integers corresponding to the Monte Carlo simulation number, hence will be in the range from 0 (inclusive) to num_sims (exclusive). The following are the properties containing simulated values:\n",
    "\n",
    "* **sim_spot_regress** is the first set of simulated spot prices are used to calculate the exercise continuation values via regression during a backward induction.\n",
    "* **sim_spot_valuation** is the second set of simulated spot prices for which exercise (inject/withdraw) decisions are simulated going forward in time using the regression derived continuation values. The final NPV is calulated using the cash flow derived from these exercise decisions.\n",
    "* **sim_inject_withdraw** contains the simulation optimal inject or withdraw volumes.\n",
    "* **sim_inventory** contains the simulation inventory. For each simulation and time period this will be the sum of the starting inventory and the inject/withdraw volumes up until the time period.\n",
    "* **sim_cmdty_consumed** contains the simulation commodity consumed upon injection/withdrawal as described in [this section](creating_storage_instances.ipynb#commodity_consumed) of the creating_storage_instances notebook.\n",
    "* **sim_inventory_loss** contains the simulated inventory loss, as described [here](creating_storage_instances.ipynb#inventory_cost_loss).\n",
    "* **sim_net_volume** contains the simulated net volume which will need to be traded on the spot commodity market due to injection/withdrawal. This equals minus sim_inject_withdraw (because withdrawals are represented by negative numbers) minus sim_cmdty_consumed. \n",
    "* **sim_pv** contains the simulated PV at each time period. This equals the discounted sum of:\n",
    "    * Cash flow generated by purchasing or selling commodity on the spot market to inject or withdraw respectively, which is minus the corresponding volume in sim_inject_withdraw multiplied by the simulated spot price from sim_spot_valuation.\n",
    "    * The inject/withdraw cost.\n",
    "    * Minus the corresponding value in sim_cmdty_consumed multiplied by the simulated spot price from sim_spot_valuation.\n",
    "    * The inventory cost.\n",
    "\n",
    "The following example shows usage of the sim_spot_valuation property to chart the mean, 10th and 90th percentile of simulated spot prices against the initial forward curve."
   ]
  },
  {
   "cell_type": "code",
   "execution_count": 20,
   "metadata": {},
   "outputs": [
    {
     "data": {
      "text/plain": [
       "<matplotlib.legend.Legend at 0x1d4dd0624e0>"
      ]
     },
     "execution_count": 20,
     "metadata": {},
     "output_type": "execute_result"
    },
    {
     "data": {
      "image/png": "[encoded data removed]",
      "text/plain": [
       "<Figure size 432x288 with 1 Axes>"
      ]
     },
     "metadata": {
      "needs_background": "light"
     },
     "output_type": "display_data"
    }
   ],
   "source": [
    "import numpy as np\n",
    "\n",
    "sim_spot_valuation_mean = three_factor_results.sim_spot_valuation.aggregate(func='mean', axis='columns', raw = True)\n",
    "sim_spot_valuation_90th = three_factor_results.sim_spot_valuation.aggregate(func=np.percentile, q=90, axis='columns', raw = True)\n",
    "sim_spot_valuation_10h = three_factor_results.sim_spot_valuation.aggregate(func=np.percentile, q=10, axis='columns', raw = True)\n",
    "\n",
    "sim_spot_valuation_mean.plot(title = 'Statistics of Simulated Spot Prices', legend=True)\n",
    "fwd_curve['2021-04-25' : '2022-04-01'].plot(legend=True)\n",
    "sim_spot_valuation_10h.plot(legend=True)\n",
    "ax = sim_spot_valuation_90th.plot(legend=True)\n",
    "ax.legend(['Mean', 'Forward Curve', '10th Percentile', '90th Percentile'])"
   ]
  },
  {
   "cell_type": "markdown",
   "metadata": {},
   "source": [
    "<a id='expected_profile'></a>\n",
    "### Expected Profile\n",
    "The **expected_profile** property is a Pandas DataFrame containing the expected value of several quantities simulated during the valuation."
   ]
  },
  {
   "cell_type": "code",
   "execution_count": 21,
   "metadata": {},
   "outputs": [
    {
     "data": {
      "text/html": [
       "<div>\n",
       "<style scoped>\n",
       "    .dataframe tbody tr th:only-of-type {\n",
       "        vertical-align: middle;\n",
       "    }\n",
       "\n",
       "    .dataframe tbody tr th {\n",
       "        vertical-align: top;\n",
       "    }\n",
       "\n",
       "    .dataframe thead th {\n",
       "        text-align: right;\n",
       "    }\n",
       "</style>\n",
       "<table border=\"1\" class=\"dataframe\">\n",
       "  <thead>\n",
       "    <tr style=\"text-align: right;\">\n",
       "      <th></th>\n",
       "      <th>inventory</th>\n",
       "      <th>inject_withdraw_volume</th>\n",
       "      <th>cmdty_consumed</th>\n",
       "      <th>inventory_loss</th>\n",
       "      <th>net_volume</th>\n",
       "      <th>period_pv</th>\n",
       "    </tr>\n",
       "  </thead>\n",
       "  <tbody>\n",
       "    <tr>\n",
       "      <th>2021-04-25</th>\n",
       "      <td>1500.000000</td>\n",
       "      <td>-187.500000</td>\n",
       "      <td>0.0</td>\n",
       "      <td>0.0</td>\n",
       "      <td>187.500000</td>\n",
       "      <td>3066.289538</td>\n",
       "    </tr>\n",
       "    <tr>\n",
       "      <th>2021-04-26</th>\n",
       "      <td>1312.500000</td>\n",
       "      <td>-138.470313</td>\n",
       "      <td>0.0</td>\n",
       "      <td>0.0</td>\n",
       "      <td>138.470313</td>\n",
       "      <td>2297.558716</td>\n",
       "    </tr>\n",
       "    <tr>\n",
       "      <th>2021-04-27</th>\n",
       "      <td>1174.029687</td>\n",
       "      <td>-120.000020</td>\n",
       "      <td>0.0</td>\n",
       "      <td>0.0</td>\n",
       "      <td>120.000020</td>\n",
       "      <td>2014.678291</td>\n",
       "    </tr>\n",
       "    <tr>\n",
       "      <th>2021-04-28</th>\n",
       "      <td>1054.029668</td>\n",
       "      <td>-117.474150</td>\n",
       "      <td>0.0</td>\n",
       "      <td>0.0</td>\n",
       "      <td>117.474150</td>\n",
       "      <td>1975.168337</td>\n",
       "    </tr>\n",
       "    <tr>\n",
       "      <th>2021-04-29</th>\n",
       "      <td>936.555518</td>\n",
       "      <td>-104.946258</td>\n",
       "      <td>0.0</td>\n",
       "      <td>0.0</td>\n",
       "      <td>104.946258</td>\n",
       "      <td>1788.451500</td>\n",
       "    </tr>\n",
       "    <tr>\n",
       "      <th>...</th>\n",
       "      <td>...</td>\n",
       "      <td>...</td>\n",
       "      <td>...</td>\n",
       "      <td>...</td>\n",
       "      <td>...</td>\n",
       "      <td>...</td>\n",
       "    </tr>\n",
       "    <tr>\n",
       "      <th>2022-03-28</th>\n",
       "      <td>361.209789</td>\n",
       "      <td>-91.658054</td>\n",
       "      <td>0.0</td>\n",
       "      <td>0.0</td>\n",
       "      <td>91.658054</td>\n",
       "      <td>1495.261244</td>\n",
       "    </tr>\n",
       "    <tr>\n",
       "      <th>2022-03-29</th>\n",
       "      <td>269.551735</td>\n",
       "      <td>-92.670739</td>\n",
       "      <td>0.0</td>\n",
       "      <td>0.0</td>\n",
       "      <td>92.670739</td>\n",
       "      <td>1504.002192</td>\n",
       "    </tr>\n",
       "    <tr>\n",
       "      <th>2022-03-30</th>\n",
       "      <td>176.880996</td>\n",
       "      <td>-88.981502</td>\n",
       "      <td>0.0</td>\n",
       "      <td>0.0</td>\n",
       "      <td>88.981502</td>\n",
       "      <td>1423.817978</td>\n",
       "    </tr>\n",
       "    <tr>\n",
       "      <th>2022-03-31</th>\n",
       "      <td>87.899495</td>\n",
       "      <td>-87.899495</td>\n",
       "      <td>0.0</td>\n",
       "      <td>0.0</td>\n",
       "      <td>87.899495</td>\n",
       "      <td>1411.489131</td>\n",
       "    </tr>\n",
       "    <tr>\n",
       "      <th>2022-04-01</th>\n",
       "      <td>0.000000</td>\n",
       "      <td>0.000000</td>\n",
       "      <td>0.0</td>\n",
       "      <td>0.0</td>\n",
       "      <td>0.000000</td>\n",
       "      <td>0.000000</td>\n",
       "    </tr>\n",
       "  </tbody>\n",
       "</table>\n",
       "<p>342 rows × 6 columns</p>\n",
       "</div>"
      ],
      "text/plain": [
       "              inventory  inject_withdraw_volume  cmdty_consumed  \\\n",
       "2021-04-25  1500.000000             -187.500000             0.0   \n",
       "2021-04-26  1312.500000             -138.470313             0.0   \n",
       "2021-04-27  1174.029687             -120.000020             0.0   \n",
       "2021-04-28  1054.029668             -117.474150             0.0   \n",
       "2021-04-29   936.555518             -104.946258             0.0   \n",
       "...                 ...                     ...             ...   \n",
       "2022-03-28   361.209789              -91.658054             0.0   \n",
       "2022-03-29   269.551735              -92.670739             0.0   \n",
       "2022-03-30   176.880996              -88.981502             0.0   \n",
       "2022-03-31    87.899495              -87.899495             0.0   \n",
       "2022-04-01     0.000000                0.000000             0.0   \n",
       "\n",
       "            inventory_loss  net_volume    period_pv  \n",
       "2021-04-25             0.0  187.500000  3066.289538  \n",
       "2021-04-26             0.0  138.470313  2297.558716  \n",
       "2021-04-27             0.0  120.000020  2014.678291  \n",
       "2021-04-28             0.0  117.474150  1975.168337  \n",
       "2021-04-29             0.0  104.946258  1788.451500  \n",
       "...                    ...         ...          ...  \n",
       "2022-03-28             0.0   91.658054  1495.261244  \n",
       "2022-03-29             0.0   92.670739  1504.002192  \n",
       "2022-03-30             0.0   88.981502  1423.817978  \n",
       "2022-03-31             0.0   87.899495  1411.489131  \n",
       "2022-04-01             0.0    0.000000     0.000000  \n",
       "\n",
       "[342 rows x 6 columns]"
      ]
     },
     "execution_count": 21,
     "metadata": {},
     "output_type": "execute_result"
    }
   ],
   "source": [
    "three_factor_results.expected_profile"
   ]
  },
  {
   "cell_type": "markdown",
   "metadata": {},
   "source": [
    "<a id='instrumentation'></a>\n",
    "## Instrumentation\n",
    "There are two ways to instrument the valuation code: an on progress call-back and logging. This section describes both of these. \n",
    "\n",
    "\n",
    "<a id='progress_callback'></a>\n",
    "### Progress Callback\n",
    "Both valuation functions have an optional argument **on_progress_update** which should be assigned to a callable (i.e. a function) which accepts one argument and has void return. When running the valuation the callable will be invoked with a float instance passed in to the single argument with a numeric approximation of the percentage progress of the total calculation. A typical usage scenario would be to wire this up to a progress bar. This is particularly important from a usability perspective, when a high number of Monte-Carlo simulations are used, hence the calculations can take a long time.\n",
    "\n",
    "The example below demonstrates this with a IPython progress bar widget."
   ]
  },
  {
   "cell_type": "code",
   "execution_count": 22,
   "metadata": {},
   "outputs": [
    {
     "data": {
      "application/vnd.jupyter.widget-view+json": {
       "model_id": "97034e44435e4be4a5ee4c671d7e56e3",
       "version_major": 2,
       "version_minor": 0
      },
      "text/plain": [
       "Button(description='Calc Storage Value', style=ButtonStyle())"
      ]
     },
     "metadata": {},
     "output_type": "display_data"
    },
    {
     "data": {
      "application/vnd.jupyter.widget-view+json": {
       "model_id": "31d04420d40e4e2badbcc0976d25ae86",
       "version_major": 2,
       "version_minor": 0
      },
      "text/plain": [
       "FloatProgress(value=0.0, max=1.0)"
      ]
     },
     "metadata": {},
     "output_type": "display_data"
    }
   ],
   "source": [
    "progress_wgt = ipw.FloatProgress(min=0.0, max=1.0)\n",
    "\n",
    "def on_progress(progress):\n",
    "    progress_wgt.value = progress\n",
    "\n",
    "def btn_value_progress_clicked(b):\n",
    "    on_progress_demo_results = three_factor_seasonal_value(\n",
    "        cmdty_storage = storage,\n",
    "        val_date = '2021-04-25',\n",
    "        inventory = 1500.0,\n",
    "        fwd_curve = fwd_curve,\n",
    "        interest_rates = ir_curve,\n",
    "        settlement_rule = lambda decision_date: decision_date.asfreq('M').asfreq('D', 'end') + 20,\n",
    "        spot_mean_reversion = 45.0,\n",
    "        spot_vol = 0.65,\n",
    "        long_term_vol = 0.21,\n",
    "        seasonal_vol = 0.18,\n",
    "        num_sims = 500,\n",
    "        basis_funcs = '1 + x_st + x_sw + x_lt + x_st**2 + x_sw**2 + x_lt**2 + x_st**3 + x_sw**3 + x_lt**3',\n",
    "        discount_deltas=True,\n",
    "        on_progress_update = on_progress\n",
    "    )\n",
    "    \n",
    "btn_calc_value_progress = ipw.Button(description='Calc Storage Value')\n",
    "btn_calc_value_progress.on_click(btn_value_progress_clicked)\n",
    "display(btn_calc_value_progress)\n",
    "display(progress_wgt)"
   ]
  },
  {
   "cell_type": "markdown",
   "metadata": {},
   "source": [
    "<a id='logging'></a>\n",
    "### Loggging\n",
    "The cmdty_storage package makes use of the [standard Python logging module](https://docs.python.org/3/library/logging.html) by exposing a logger object at the level of the multi_factor module, which will be created with the name 'cmdty.storage.multi-factor'. A log handler can be added to this in order to direct the logged information to the desired destination. See the [logging advanced tutorial](https://docs.python.org/3/howto/logging.html#logging-advanced-tutorial) for more information on using appenders.\n",
    "\n",
    "The following uses slightly modified code from an example in the ipywideget [documentation](https://ipywidgets.readthedocs.io/en/latest/examples/Output%20Widget.html#Integrating-output-widgets-with-the-logging-module) to create a custom logging handler which prints to an [Output widget](https://ipywidgets.readthedocs.io/en/latest/examples/Output%20Widget.html)."
   ]
  },
  {
   "cell_type": "code",
   "execution_count": 23,
   "metadata": {},
   "outputs": [
    {
     "data": {
      "application/vnd.jupyter.widget-view+json": {
       "model_id": "eae7b7bba2194368b241738ebfe3b64d",
       "version_major": 2,
       "version_minor": 0
      },
      "text/plain": [
       "Button(description='Calc Storage Value', style=ButtonStyle())"
      ]
     },
     "metadata": {},
     "output_type": "display_data"
    },
    {
     "data": {
      "application/vnd.jupyter.widget-view+json": {
       "model_id": "f0f4542dc7bb4c53842f4c9120a6074b",
       "version_major": 2,
       "version_minor": 0
      },
      "text/plain": [
       "Button(description='Clear Logs', style=ButtonStyle())"
      ]
     },
     "metadata": {},
     "output_type": "display_data"
    },
    {
     "data": {
      "application/vnd.jupyter.widget-view+json": {
       "model_id": "551bab84b1c1420ab6b99a673f331b8b",
       "version_major": 2,
       "version_minor": 0
      },
      "text/plain": [
       "Output(layout=Layout(border='1px solid black', height='160px', overflow_y='auto', width='100%'))"
      ]
     },
     "metadata": {},
     "output_type": "display_data"
    }
   ],
   "source": [
    "from cmdty_storage import multi_factor\n",
    "import logging\n",
    "\n",
    "class OutputWidgetHandler(logging.Handler):\n",
    "    \"\"\" Custom logging handler sending logs to an output widget \"\"\"\n",
    "\n",
    "    def __init__(self, *args, **kwargs):\n",
    "        super(OutputWidgetHandler, self).__init__(*args, **kwargs)\n",
    "        layout = {\n",
    "            'width': '100%',\n",
    "            'height': '160px',\n",
    "            'border': '1px solid black',\n",
    "            'overflow_y': 'auto',\n",
    "        }\n",
    "        self.out = ipw.Output(layout=layout)\n",
    "\n",
    "    def emit(self, record):\n",
    "        \"\"\" Overload of logging.Handler method \"\"\"\n",
    "        formatted_record = self.format(record)\n",
    "        new_output = {\n",
    "            'name': 'stdout',\n",
    "            'output_type': 'stream',\n",
    "            'text': formatted_record+'\\n'\n",
    "        }\n",
    "        self.out.outputs = self.out.outputs + (new_output, )\n",
    "\n",
    "    def show_logs(self):\n",
    "        \"\"\" Show the logs \"\"\"\n",
    "        display(self.out)\n",
    "\n",
    "    def clear_logs(self):\n",
    "        \"\"\" Clear the current logs \"\"\"\n",
    "        self.out.clear_output()\n",
    "\n",
    "handler = OutputWidgetHandler()\n",
    "handler.setFormatter(logging.Formatter('%(asctime)s  - [%(levelname)s] %(message)s'))\n",
    "\n",
    "multi_factor.logger.setLevel(logging.INFO)\n",
    "\n",
    "def btn_value_logging_clicked(b):\n",
    "    multi_factor.logger.addHandler(handler)\n",
    "    logging_demo_results = three_factor_seasonal_value(\n",
    "        cmdty_storage = storage,\n",
    "        val_date = '2021-04-25',\n",
    "        inventory = 1500.0,\n",
    "        fwd_curve = fwd_curve,\n",
    "        interest_rates = ir_curve,\n",
    "        settlement_rule = lambda decision_date: decision_date.asfreq('M').asfreq('D', 'end') + 20,\n",
    "        spot_mean_reversion = 45.0,\n",
    "        spot_vol = 0.65,\n",
    "        long_term_vol = 0.21,\n",
    "        seasonal_vol = 0.18,\n",
    "        num_sims = 500,\n",
    "        basis_funcs = '1 + x_st + x_sw + x_lt + x_st**2 + x_sw**2 + x_lt**2 + x_st**3 + x_sw**3 + x_lt**3',\n",
    "        discount_deltas=True,\n",
    "    )\n",
    "    multi_factor.logger.removeHandler(handler)\n",
    "\n",
    "def btn_on_clear_logs_clicked(b):\n",
    "    handler.clear_logs()\n",
    "    \n",
    "btn_calc_value_logging = ipw.Button(description='Calc Storage Value')\n",
    "btn_calc_value_logging.on_click(btn_value_logging_clicked)\n",
    "display(btn_calc_value_logging)\n",
    "\n",
    "btn_clear_logs = ipw.Button(description='Clear Logs')\n",
    "btn_clear_logs.on_click(btn_on_clear_logs_clicked)\n",
    "display(btn_clear_logs)\n",
    "\n",
    "handler.show_logs()"
   ]
  }
 ],
 "metadata": {
  "kernelspec": {
   "display_name": "Python 3",
   "language": "python",
   "name": "python3"
  },
  "language_info": {
   "codemirror_mode": {
    "name": "ipython",
    "version": 3
   },
   "file_extension": ".py",
   "mimetype": "text/x-python",
   "name": "python",
   "nbconvert_exporter": "python",
   "pygments_lexer": "ipython3",
   "version": "3.7.1"
  }
 },
 "nbformat": 4,
 "nbformat_minor": 2
}
