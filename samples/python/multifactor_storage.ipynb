{
 "cells": [
  {
   "cell_type": "markdown",
   "metadata": {},
   "source": [
    "## Table of Contents\n",
    "* [Introduction](#introduction)\n",
    "\n",
    "* [Valuation Results](#valuation_results)\n",
    "    * [Deltas](#deltas)\n",
    "    * [Intrinsic Profile](#intrinsic_profile)\n",
    "    * [Trigger Prices](#trigger_prices)\n",
    "    * [Simulated Values](#simulated_values)\n",
    "    * [Expected Profile](#expected_profile)\n",
    "\n",
    "* [Instrumentation](#instrumentation)\n",
    "    * [Progress Callback](#progress_callback)\n",
    "    * [Logging](#logging)\n"
   ]
  },
  {
   "cell_type": "markdown",
   "metadata": {},
   "source": [
    "<a id='introduction'></a>\n",
    "### Introduction\n",
    "This notebook describes how to value storage using the Least Squares Monte Carlo multi-factor valuation model using the Python API. As a prerequisite please first study the notebook [creating_storage_instances](creating_storage_instances.ipynb) which describes how to create instances of CmdtyStorage which represent the storage facility.\n",
    "\n"
   ]
  },
  {
   "cell_type": "code",
   "execution_count": 81,
   "metadata": {},
   "outputs": [],
   "source": [
    "# Common Imports\n",
    "from cmdty_storage import CmdtyStorage, three_factor_seasonal_value, multi_factor_value\n",
    "import pandas as pd\n",
    "import ipywidgets as ipw\n",
    "from IPython.display import display"
   ]
  },
  {
   "cell_type": "markdown",
   "metadata": {},
   "source": [
    "#### Storage Object\n",
    "For all examples the following storage with ratchets is used."
   ]
  },
  {
   "cell_type": "code",
   "execution_count": 82,
   "metadata": {},
   "outputs": [],
   "source": [
    "storage = CmdtyStorage(\n",
    "    freq='D',\n",
    "    storage_start = '2021-04-01',\n",
    "    storage_end = '2022-04-01',\n",
    "    injection_cost = 0.1,\n",
    "    withdrawal_cost = 0.25,\n",
    "    constraints= [\n",
    "                ('2021-04-01', # For days after 2021-04-01 (inclusive) until 2022-10-01 (exclusive):\n",
    "                       [\n",
    "                            (0.0, -150.0, 250.0),    # At min inventory of zero, max withdrawal of 150, max injection 250\n",
    "                            (2000.0, -200.0, 175.0), # At inventory of 2000, max withdrawal of 200, max injection 175\n",
    "                            (5000.0, -260.0, 155.0), # At inventory of 5000, max withdrawal of 260, max injection 155\n",
    "                            (7000.0, -275.0, 132.0), # At max inventory of 7000, max withdrawal of 275, max injection 132\n",
    "                        ]),\n",
    "                  ('2022-10-01', # For days after 2022-10-01 (inclusive):\n",
    "                       [\n",
    "                            (0.0, -130.0, 260.0),    # At min inventory of zero, max withdrawal of 130, max injection 260\n",
    "                            (2000.0, -190.0, 190.0), # At inventory of 2000, max withdrawal of 190, max injection 190\n",
    "                            (5000.0, -230.0, 165.0), # At inventory of 5000, max withdrawal of 230, max injection 165\n",
    "                            (7000.0, -245.0, 148.0), # At max inventory of 7000, max withdrawal of 245, max injection 148\n",
    "                        ]),\n",
    "                 ]\n",
    ")"
   ]
  },
  {
   "cell_type": "markdown",
   "metadata": {},
   "source": [
    "#### Forward Curve\n",
    "The following natural gas forward curve is used in all examples. This is a monthly curve, converted to daily granularity with piecewise flat interpolation. To create smooth daily curves, with day-of-week seasonality see [Cmdty Curves](https://github.com/cmdty/curves)."
   ]
  },
  {
   "cell_type": "code",
   "execution_count": 83,
   "metadata": {},
   "outputs": [
    {
     "data": {
      "text/plain": [
       "<matplotlib.axes._subplots.AxesSubplot at 0x20ccb5abac8>"
      ]
     },
     "execution_count": 83,
     "metadata": {},
     "output_type": "execute_result"
    },
    {
     "data": {
      "image/png": "[encoded data removed]",
      "text/plain": [
       "<Figure size 432x288 with 1 Axes>"
      ]
     },
     "metadata": {
      "needs_background": "light"
     },
     "output_type": "display_data"
    }
   ],
   "source": [
    "monthly_index = pd.period_range(start='2021-04-25', periods=25, freq='M')\n",
    "monthly_fwd_prices = [16.61, 15.68, 15.42, 15.31, 15.27, 15.13, 15.96, 17.22, 17.32, 17.66, \n",
    "                      17.59, 16.81, 15.36, 14.49, 14.28, 14.25, 14.32, 14.33, 15.30, 16.58, \n",
    "                      16.64, 16.79, 16.64, 15.90, 14.63]\n",
    "fwd_curve = pd.Series(data=monthly_fwd_prices, index=monthly_index).resample('D').fillna('pad')\n",
    "%matplotlib inline\n",
    "fwd_curve.plot(title='Forward Curve')"
   ]
  },
  {
   "cell_type": "markdown",
   "metadata": {},
   "source": [
    "#### Interest Rates Curve\n",
    "Act/365 continuously compounded interest rates are provided as a Pandas Series instance. In these examples, for simplicity a linearly interpolated rates curve is used. "
   ]
  },
  {
   "cell_type": "code",
   "execution_count": 84,
   "metadata": {},
   "outputs": [
    {
     "data": {
      "text/plain": [
       "<matplotlib.axes._subplots.AxesSubplot at 0x20ccb75f470>"
      ]
     },
     "execution_count": 84,
     "metadata": {},
     "output_type": "execute_result"
    },
    {
     "data": {
      "image/png": "[encoded data removed]",
      "text/plain": [
       "<Figure size 432x288 with 1 Axes>"
      ]
     },
     "metadata": {
      "needs_background": "light"
     },
     "output_type": "display_data"
    }
   ],
   "source": [
    "rates = [0.005, 0.006, 0.0072, 0.0087, 0.0101, 0.0115, 0.0126]\n",
    "rates_pillars = pd.PeriodIndex(freq='D', data=['2021-04-25', '2021-06-01', '2021-08-01', '2021-12-01', '2022-04-01', \n",
    "                                              '2022-12-01', '2023-12-01'])\n",
    "ir_curve = pd.Series(data=rates, index=rates_pillars).resample('D').asfreq('D').interpolate(method='linear')\n",
    "ir_curve.plot(title='Interest Rate Curve')"
   ]
  },
  {
   "cell_type": "markdown",
   "metadata": {},
   "source": [
    "<a id='three_factor_seasonal'></a>\n",
    "### Three Factor Seasonal Model\n",
    "This section gives an example of using the storage valuation model where the commodity price dynamics are assumed to follow a three-factor seasonal model. The stochastic price model is described in [this paper](https://github.com/cmdty/core/blob/master/docs/three_factor_seasonal_model/three_factor_seasonal_model.pdf), which is a special case of the more general [multi-factor model](https://github.com/cmdty/core/blob/master/docs/multifactor_price_process/multifactor_price_process.pdf). The three factor model is particularly suited power and natural gas which show seaonality in the volatility and correlation."
   ]
  },
  {
   "cell_type": "code",
   "execution_count": 85,
   "metadata": {},
   "outputs": [],
   "source": [
    "three_factor_results = three_factor_seasonal_value(\n",
    "    cmdty_storage = storage,\n",
    "    val_date = '2021-04-25',\n",
    "    inventory = 1500.0,\n",
    "    fwd_curve = fwd_curve,\n",
    "    interest_rates = ir_curve,\n",
    "    settlement_rule = lambda decision_date: decision_date.asfreq('M').asfreq('D', 'end') + 20,\n",
    "    spot_mean_reversion = 45.0,\n",
    "    spot_vol = 0.65,\n",
    "    long_term_vol = 0.21,\n",
    "    seasonal_vol = 0.18,\n",
    "    num_sims = 500,\n",
    "    basis_funcs = '1 + x_st + x_sw + x_lt + x_st**2 + x_sw**2 + x_lt**2 + x_st**3 + x_sw**3 + x_lt**3',\n",
    "    discount_deltas=True\n",
    ")"
   ]
  },
  {
   "cell_type": "markdown",
   "metadata": {},
   "source": [
    "<a id='valuation_results'></a>\n",
    "## Valuation Results\n",
    "The **three_factor_seasonal_value** function call above returns an instance of **MultiFactorValuationResults**, which derives from NamedTuple and has many properties for the results of the optimisation, plus other metadata from the calculations.\n",
    "\n",
    "The the following attributes give information on the NPV (Net Present Value):\n",
    "* **npv** is the full NPV including the option value.\n",
    "* **intrinsic_npv** is the NPV calculated using a static optimisation assuming prices are deterministic, i.e. giving the storage no option value.\n",
    "* **extrinsic_npv** is the value of just the optionality, i.e. npv minus intrinsic_npv."
   ]
  },
  {
   "cell_type": "code",
   "execution_count": 86,
   "metadata": {},
   "outputs": [
    {
     "name": "stdout",
     "output_type": "stream",
     "text": [
      "Full NPV:\t65,637\n",
      "Intrinsic NPV: \t38,446\n",
      "Extrinsic NPV: \t27,191\n"
     ]
    }
   ],
   "source": [
    "print('Full NPV:\\t{0:,.0f}'.format(three_factor_results.npv))\n",
    "print('Intrinsic NPV: \\t{0:,.0f}'.format(three_factor_results.intrinsic_npv))\n",
    "print('Extrinsic NPV: \\t{0:,.0f}'.format(three_factor_results.extrinsic_npv))"
   ]
  },
  {
   "cell_type": "markdown",
   "metadata": {},
   "source": [
    "<a id='deltas'></a>\n",
    "### Deltas\n",
    "The **deltas** property is of type pandas.Series and contains the senstivity of the full NPV to the forward price, for each future period. This is calculated using pathwise differentiation as part of the Monte Carlo simulation, hence if not many simulation paths are used, as in this example, it can look quite jagged. With a higher number of simulations this should look smoother."
   ]
  },
  {
   "cell_type": "code",
   "execution_count": 87,
   "metadata": {},
   "outputs": [
    {
     "data": {
      "text/plain": [
       "<matplotlib.axes._subplots.AxesSubplot at 0x20cc8c09208>"
      ]
     },
     "execution_count": 87,
     "metadata": {},
     "output_type": "execute_result"
    },
    {
     "data": {
      "image/png": "[encoded data removed]",
      "text/plain": [
       "<Figure size 432x288 with 1 Axes>"
      ]
     },
     "metadata": {
      "needs_background": "light"
     },
     "output_type": "display_data"
    }
   ],
   "source": [
    "three_factor_results.deltas.plot(title='Deltas')"
   ]
  },
  {
   "cell_type": "markdown",
   "metadata": {},
   "source": [
    "<a id='intrinsic_profile'></a>\n",
    "### Intrinsic Profile\n",
    "The **intrinsic_profile** property is of type pandas.DataFrame and contains information for each future time period on the optimisation performed for the intrinsic valuation. "
   ]
  },
  {
   "cell_type": "code",
   "execution_count": 88,
   "metadata": {},
   "outputs": [
    {
     "data": {
      "text/html": [
       "<div>\n",
       "<style scoped>\n",
       "    .dataframe tbody tr th:only-of-type {\n",
       "        vertical-align: middle;\n",
       "    }\n",
       "\n",
       "    .dataframe tbody tr th {\n",
       "        vertical-align: top;\n",
       "    }\n",
       "\n",
       "    .dataframe thead th {\n",
       "        text-align: right;\n",
       "    }\n",
       "</style>\n",
       "<table border=\"1\" class=\"dataframe\">\n",
       "  <thead>\n",
       "    <tr style=\"text-align: right;\">\n",
       "      <th></th>\n",
       "      <th>inventory</th>\n",
       "      <th>inject_withdraw_volume</th>\n",
       "      <th>cmdty_consumed</th>\n",
       "      <th>inventory_loss</th>\n",
       "      <th>net_volume</th>\n",
       "      <th>period_pv</th>\n",
       "    </tr>\n",
       "  </thead>\n",
       "  <tbody>\n",
       "    <tr>\n",
       "      <th>2021-04-25</th>\n",
       "      <td>1312.500000</td>\n",
       "      <td>-187.500000</td>\n",
       "      <td>0.0</td>\n",
       "      <td>0.0</td>\n",
       "      <td>187.500000</td>\n",
       "      <td>3066.289538</td>\n",
       "    </tr>\n",
       "    <tr>\n",
       "      <th>2021-04-26</th>\n",
       "      <td>1129.687500</td>\n",
       "      <td>-182.812500</td>\n",
       "      <td>0.0</td>\n",
       "      <td>0.0</td>\n",
       "      <td>182.812500</td>\n",
       "      <td>2989.632929</td>\n",
       "    </tr>\n",
       "    <tr>\n",
       "      <th>2021-04-27</th>\n",
       "      <td>951.445312</td>\n",
       "      <td>-178.242188</td>\n",
       "      <td>0.0</td>\n",
       "      <td>0.0</td>\n",
       "      <td>178.242188</td>\n",
       "      <td>2914.892726</td>\n",
       "    </tr>\n",
       "    <tr>\n",
       "      <th>2021-04-28</th>\n",
       "      <td>777.659180</td>\n",
       "      <td>-173.786133</td>\n",
       "      <td>0.0</td>\n",
       "      <td>0.0</td>\n",
       "      <td>173.786133</td>\n",
       "      <td>2842.021019</td>\n",
       "    </tr>\n",
       "    <tr>\n",
       "      <th>2021-04-29</th>\n",
       "      <td>608.217700</td>\n",
       "      <td>-169.441479</td>\n",
       "      <td>0.0</td>\n",
       "      <td>0.0</td>\n",
       "      <td>169.441479</td>\n",
       "      <td>2770.971096</td>\n",
       "    </tr>\n",
       "    <tr>\n",
       "      <th>...</th>\n",
       "      <td>...</td>\n",
       "      <td>...</td>\n",
       "      <td>...</td>\n",
       "      <td>...</td>\n",
       "      <td>...</td>\n",
       "      <td>...</td>\n",
       "    </tr>\n",
       "    <tr>\n",
       "      <th>2022-03-28</th>\n",
       "      <td>0.000000</td>\n",
       "      <td>0.000000</td>\n",
       "      <td>0.0</td>\n",
       "      <td>0.0</td>\n",
       "      <td>-0.000000</td>\n",
       "      <td>-0.000000</td>\n",
       "    </tr>\n",
       "    <tr>\n",
       "      <th>2022-03-29</th>\n",
       "      <td>0.000000</td>\n",
       "      <td>0.000000</td>\n",
       "      <td>0.0</td>\n",
       "      <td>0.0</td>\n",
       "      <td>-0.000000</td>\n",
       "      <td>-0.000000</td>\n",
       "    </tr>\n",
       "    <tr>\n",
       "      <th>2022-03-30</th>\n",
       "      <td>0.000000</td>\n",
       "      <td>0.000000</td>\n",
       "      <td>0.0</td>\n",
       "      <td>0.0</td>\n",
       "      <td>-0.000000</td>\n",
       "      <td>-0.000000</td>\n",
       "    </tr>\n",
       "    <tr>\n",
       "      <th>2022-03-31</th>\n",
       "      <td>0.000000</td>\n",
       "      <td>0.000000</td>\n",
       "      <td>0.0</td>\n",
       "      <td>0.0</td>\n",
       "      <td>-0.000000</td>\n",
       "      <td>-0.000000</td>\n",
       "    </tr>\n",
       "    <tr>\n",
       "      <th>2022-04-01</th>\n",
       "      <td>0.000000</td>\n",
       "      <td>0.000000</td>\n",
       "      <td>0.0</td>\n",
       "      <td>0.0</td>\n",
       "      <td>0.000000</td>\n",
       "      <td>0.000000</td>\n",
       "    </tr>\n",
       "  </tbody>\n",
       "</table>\n",
       "<p>342 rows × 6 columns</p>\n",
       "</div>"
      ],
      "text/plain": [
       "              inventory  inject_withdraw_volume  cmdty_consumed  \\\n",
       "2021-04-25  1312.500000             -187.500000             0.0   \n",
       "2021-04-26  1129.687500             -182.812500             0.0   \n",
       "2021-04-27   951.445312             -178.242188             0.0   \n",
       "2021-04-28   777.659180             -173.786133             0.0   \n",
       "2021-04-29   608.217700             -169.441479             0.0   \n",
       "...                 ...                     ...             ...   \n",
       "2022-03-28     0.000000                0.000000             0.0   \n",
       "2022-03-29     0.000000                0.000000             0.0   \n",
       "2022-03-30     0.000000                0.000000             0.0   \n",
       "2022-03-31     0.000000                0.000000             0.0   \n",
       "2022-04-01     0.000000                0.000000             0.0   \n",
       "\n",
       "            inventory_loss  net_volume    period_pv  \n",
       "2021-04-25             0.0  187.500000  3066.289538  \n",
       "2021-04-26             0.0  182.812500  2989.632929  \n",
       "2021-04-27             0.0  178.242188  2914.892726  \n",
       "2021-04-28             0.0  173.786133  2842.021019  \n",
       "2021-04-29             0.0  169.441479  2770.971096  \n",
       "...                    ...         ...          ...  \n",
       "2022-03-28             0.0   -0.000000    -0.000000  \n",
       "2022-03-29             0.0   -0.000000    -0.000000  \n",
       "2022-03-30             0.0   -0.000000    -0.000000  \n",
       "2022-03-31             0.0   -0.000000    -0.000000  \n",
       "2022-04-01             0.0    0.000000     0.000000  \n",
       "\n",
       "[342 rows x 6 columns]"
      ]
     },
     "execution_count": 88,
     "metadata": {},
     "output_type": "execute_result"
    }
   ],
   "source": [
    "three_factor_results.intrinsic_profile"
   ]
  },
  {
   "cell_type": "markdown",
   "metadata": {},
   "source": [
    "<a id='trigger_prices'></a>\n",
    "### Trigger Prices\n",
    "The **trigger_prices** property contains information on \"trigger prices\" which are approximate spot price levels at which the exercise decision changes.\n",
    "* The withdraw trigger price is the spot price level, at time of nomination, above which the optimal decision will change to withdraw.\n",
    "* The inject trigger price is the spot price level, at time of nomination, below which the optimal decision will change to inject.\n",
    "\n",
    "The columns 'withdraw_volume' and 'inject_volume' contain the volume in withdrawn or injected at the trigger prices respectively. Note that these volumes could have lower absolute value to the storage maximum withdrawal and injection rates, because inventory constraints might mean that these decision volumes aren't achievable."
   ]
  },
  {
   "cell_type": "code",
   "execution_count": 100,
   "metadata": {},
   "outputs": [
    {
     "data": {
      "text/html": [
       "<div>\n",
       "<style scoped>\n",
       "    .dataframe tbody tr th:only-of-type {\n",
       "        vertical-align: middle;\n",
       "    }\n",
       "\n",
       "    .dataframe tbody tr th {\n",
       "        vertical-align: top;\n",
       "    }\n",
       "\n",
       "    .dataframe thead th {\n",
       "        text-align: right;\n",
       "    }\n",
       "</style>\n",
       "<table border=\"1\" class=\"dataframe\">\n",
       "  <thead>\n",
       "    <tr style=\"text-align: right;\">\n",
       "      <th></th>\n",
       "      <th>inject_volume</th>\n",
       "      <th>inject_trigger_price</th>\n",
       "      <th>withdraw_volume</th>\n",
       "      <th>withdraw_trigger_price</th>\n",
       "    </tr>\n",
       "  </thead>\n",
       "  <tbody>\n",
       "    <tr>\n",
       "      <th>2021-04-25</th>\n",
       "      <td>193.750000</td>\n",
       "      <td>15.845247</td>\n",
       "      <td>-187.500000</td>\n",
       "      <td>16.278771</td>\n",
       "    </tr>\n",
       "    <tr>\n",
       "      <th>2021-04-26</th>\n",
       "      <td>200.781250</td>\n",
       "      <td>15.830849</td>\n",
       "      <td>-182.812500</td>\n",
       "      <td>16.247987</td>\n",
       "    </tr>\n",
       "    <tr>\n",
       "      <th>2021-04-27</th>\n",
       "      <td>205.874102</td>\n",
       "      <td>15.828907</td>\n",
       "      <td>-179.417266</td>\n",
       "      <td>16.193532</td>\n",
       "    </tr>\n",
       "    <tr>\n",
       "      <th>2021-04-28</th>\n",
       "      <td>210.032341</td>\n",
       "      <td>15.825748</td>\n",
       "      <td>-176.645106</td>\n",
       "      <td>16.196152</td>\n",
       "    </tr>\n",
       "    <tr>\n",
       "      <th>2021-04-29</th>\n",
       "      <td>213.869663</td>\n",
       "      <td>15.827664</td>\n",
       "      <td>-174.086891</td>\n",
       "      <td>16.125157</td>\n",
       "    </tr>\n",
       "    <tr>\n",
       "      <th>2021-04-30</th>\n",
       "      <td>217.397969</td>\n",
       "      <td>15.779184</td>\n",
       "      <td>-171.734688</td>\n",
       "      <td>16.153815</td>\n",
       "    </tr>\n",
       "    <tr>\n",
       "      <th>2021-05-01</th>\n",
       "      <td>221.111972</td>\n",
       "      <td>15.794267</td>\n",
       "      <td>-169.258685</td>\n",
       "      <td>16.182848</td>\n",
       "    </tr>\n",
       "    <tr>\n",
       "      <th>2021-05-02</th>\n",
       "      <td>217.727350</td>\n",
       "      <td>15.751091</td>\n",
       "      <td>-171.515100</td>\n",
       "      <td>16.108935</td>\n",
       "    </tr>\n",
       "    <tr>\n",
       "      <th>2021-05-03</th>\n",
       "      <td>215.000900</td>\n",
       "      <td>15.783153</td>\n",
       "      <td>-173.332733</td>\n",
       "      <td>16.185922</td>\n",
       "    </tr>\n",
       "    <tr>\n",
       "      <th>2021-05-04</th>\n",
       "      <td>212.430536</td>\n",
       "      <td>15.774023</td>\n",
       "      <td>-175.046309</td>\n",
       "      <td>16.100370</td>\n",
       "    </tr>\n",
       "  </tbody>\n",
       "</table>\n",
       "</div>"
      ],
      "text/plain": [
       "            inject_volume  inject_trigger_price  withdraw_volume  \\\n",
       "2021-04-25     193.750000             15.845247      -187.500000   \n",
       "2021-04-26     200.781250             15.830849      -182.812500   \n",
       "2021-04-27     205.874102             15.828907      -179.417266   \n",
       "2021-04-28     210.032341             15.825748      -176.645106   \n",
       "2021-04-29     213.869663             15.827664      -174.086891   \n",
       "2021-04-30     217.397969             15.779184      -171.734688   \n",
       "2021-05-01     221.111972             15.794267      -169.258685   \n",
       "2021-05-02     217.727350             15.751091      -171.515100   \n",
       "2021-05-03     215.000900             15.783153      -173.332733   \n",
       "2021-05-04     212.430536             15.774023      -175.046309   \n",
       "\n",
       "            withdraw_trigger_price  \n",
       "2021-04-25               16.278771  \n",
       "2021-04-26               16.247987  \n",
       "2021-04-27               16.193532  \n",
       "2021-04-28               16.196152  \n",
       "2021-04-29               16.125157  \n",
       "2021-04-30               16.153815  \n",
       "2021-05-01               16.182848  \n",
       "2021-05-02               16.108935  \n",
       "2021-05-03               16.185922  \n",
       "2021-05-04               16.100370  "
      ]
     },
     "metadata": {},
     "output_type": "display_data"
    },
    {
     "data": {
      "text/plain": [
       "<matplotlib.legend.Legend at 0x20cd0c8d4a8>"
      ]
     },
     "execution_count": 100,
     "metadata": {},
     "output_type": "execute_result"
    },
    {
     "data": {
      "image/png": "[encoded data removed]",
      "text/plain": [
       "<Figure size 432x288 with 1 Axes>"
      ]
     },
     "metadata": {
      "needs_background": "light"
     },
     "output_type": "display_data"
    }
   ],
   "source": [
    "display(three_factor_results.trigger_prices[0:10])\n",
    "\n",
    "ax = three_factor_results.trigger_prices['inject_trigger_price'].plot(\n",
    "    title='Trigger Prices Versus Forward Curve', legend=True)\n",
    "three_factor_results.trigger_prices['withdraw_trigger_price'].plot(legend=True)\n",
    "fwd_curve['2021-04-25' : '2022-04-01'].plot(legend=True)\n",
    "ax.legend(['Inject Trigger Price', 'Withdraw Trigger', 'Forward Curve'])\n"
   ]
  },
  {
   "cell_type": "markdown",
   "metadata": {},
   "source": [
    "<a id='simulated_values'></a>\n",
    "### Simulated Values\n",
    "**MultiFactorValuationResults** has a number of properties of type pandas.DataFrame which information at the individual simulation level from the internals of the Least Squares Monte Carlo valuation. For each of these DataFrame instances will have index (row label) of type PeriodIndex with frequency corresponding to the frequency string **freq** argument and correspond to the periods for which the storage is active. The column labels will be integers corresponding to the Monte Carlo simulation number, hence will be in the range from 0 (inclusive) to num_sims (exclusive). The following are the properties containing simulated values:\n",
    "\n",
    "* **sim_spot_regress** is the first set of simulated spot prices are used to calculate the exercise continuation values via regression during a backward induction.\n",
    "* **sim_spot_valuation** is the second set of simulated spot prices for which exercise (inject/withdraw) decisions are simulated going forward in time using the regression derived continuation values. The final NPV is calulated using the cash flow derived from these exercise decisions.\n",
    "* **sim_inject_withdraw** contains the simulation optimal inject or withdraw volumes.\n",
    "* **sim_inventory** contains the simulation inventory. For each simulation and time period this will be the sum of the starting inventory and the inject/withdraw volumes up until the time period.\n",
    "* **sim_cmdty_consumed** contains the simulation commodity consumed upon injection/withdrawal as described in [this section](creating_storage_instances.ipynb#commodity_consumed) of the creating_storage_instances notebook.\n",
    "* **sim_inventory_loss** contains the simulated inventory loss, as described [here](creating_storage_instances.ipynb#inventory_cost_loss).\n",
    "* **sim_net_volume** contains the simulated net volume which will need to be traded on the spot commodity market due to injection/withdrawal. This equals minus sim_inject_withdraw (because withdrawals are represented by negative numbers) minus sim_cmdty_consumed. \n",
    "* **sim_pv** contains the simulated PV at each time period. This equals the discounted sum of:\n",
    "    * Cash flow generated by purchasing or selling commodity on the spot market to inject or withdraw respectively, which is minus the corresponding volume in sim_inject_withdraw multiplied by the simulated spot price from sim_spot_valuation.\n",
    "    * The inject/withdraw cost.\n",
    "    * Minus the corresponding value in sim_cmdty_consumed multiplied by the simulated spot price from sim_spot_valuation.\n",
    "    * The inventory cost.\n",
    "\n",
    "The following example shows usage of the sim_spot_valuation property to chart the mean, 10th and 90th percentile of simulated spot prices against the initial forward curve."
   ]
  },
  {
   "cell_type": "code",
   "execution_count": 90,
   "metadata": {},
   "outputs": [
    {
     "data": {
      "text/plain": [
       "<matplotlib.legend.Legend at 0x20ccfb6cf60>"
      ]
     },
     "execution_count": 90,
     "metadata": {},
     "output_type": "execute_result"
    },
    {
     "data": {
      "image/png": "[encoded data removed]",
      "text/plain": [
       "<Figure size 432x288 with 1 Axes>"
      ]
     },
     "metadata": {
      "needs_background": "light"
     },
     "output_type": "display_data"
    }
   ],
   "source": [
    "import numpy as np\n",
    "\n",
    "sim_spot_valuation_mean = three_factor_results.sim_spot_valuation.aggregate(func='mean', axis='columns', raw = True)\n",
    "sim_spot_valuation_90th = three_factor_results.sim_spot_valuation.aggregate(func=np.percentile, q=90, axis='columns', raw = True)\n",
    "sim_spot_valuation_10h = three_factor_results.sim_spot_valuation.aggregate(func=np.percentile, q=10, axis='columns', raw = True)\n",
    "\n",
    "sim_spot_valuation_mean.plot(title = 'Statistics of Simulated Spot Prices', legend=True)\n",
    "fwd_curve['2021-04-25' : '2022-04-01'].plot(legend=True)\n",
    "sim_spot_valuation_10h.plot(legend=True)\n",
    "ax = sim_spot_valuation_90th.plot(legend=True)\n",
    "ax.legend(['Mean', 'Forward Curve', '10th Percentile', '90th Percentile'])"
   ]
  },
  {
   "cell_type": "markdown",
   "metadata": {},
   "source": [
    "<a id='expected_profile'></a>\n",
    "### Expected Profile\n",
    "The **expected_profile** property is a Pandas DataFrame containing the expected value of several quantities simulated during the valuation."
   ]
  },
  {
   "cell_type": "code",
   "execution_count": 91,
   "metadata": {},
   "outputs": [
    {
     "data": {
      "text/html": [
       "<div>\n",
       "<style scoped>\n",
       "    .dataframe tbody tr th:only-of-type {\n",
       "        vertical-align: middle;\n",
       "    }\n",
       "\n",
       "    .dataframe tbody tr th {\n",
       "        vertical-align: top;\n",
       "    }\n",
       "\n",
       "    .dataframe thead th {\n",
       "        text-align: right;\n",
       "    }\n",
       "</style>\n",
       "<table border=\"1\" class=\"dataframe\">\n",
       "  <thead>\n",
       "    <tr style=\"text-align: right;\">\n",
       "      <th></th>\n",
       "      <th>inventory</th>\n",
       "      <th>inject_withdraw_volume</th>\n",
       "      <th>cmdty_consumed</th>\n",
       "      <th>inventory_loss</th>\n",
       "      <th>net_volume</th>\n",
       "      <th>period_pv</th>\n",
       "    </tr>\n",
       "  </thead>\n",
       "  <tbody>\n",
       "    <tr>\n",
       "      <th>2021-04-25</th>\n",
       "      <td>1500.000000</td>\n",
       "      <td>-187.500000</td>\n",
       "      <td>0.0</td>\n",
       "      <td>0.0</td>\n",
       "      <td>187.500000</td>\n",
       "      <td>3066.289538</td>\n",
       "    </tr>\n",
       "    <tr>\n",
       "      <th>2021-04-26</th>\n",
       "      <td>1312.500000</td>\n",
       "      <td>-135.809375</td>\n",
       "      <td>0.0</td>\n",
       "      <td>0.0</td>\n",
       "      <td>135.809375</td>\n",
       "      <td>2257.077466</td>\n",
       "    </tr>\n",
       "    <tr>\n",
       "      <th>2021-04-27</th>\n",
       "      <td>1176.690625</td>\n",
       "      <td>-110.886387</td>\n",
       "      <td>0.0</td>\n",
       "      <td>0.0</td>\n",
       "      <td>110.886387</td>\n",
       "      <td>1872.404605</td>\n",
       "    </tr>\n",
       "    <tr>\n",
       "      <th>2021-04-28</th>\n",
       "      <td>1065.804238</td>\n",
       "      <td>-102.328584</td>\n",
       "      <td>0.0</td>\n",
       "      <td>0.0</td>\n",
       "      <td>102.328584</td>\n",
       "      <td>1746.103670</td>\n",
       "    </tr>\n",
       "    <tr>\n",
       "      <th>2021-04-29</th>\n",
       "      <td>963.475654</td>\n",
       "      <td>-94.088148</td>\n",
       "      <td>0.0</td>\n",
       "      <td>0.0</td>\n",
       "      <td>94.088148</td>\n",
       "      <td>1626.846662</td>\n",
       "    </tr>\n",
       "    <tr>\n",
       "      <th>...</th>\n",
       "      <td>...</td>\n",
       "      <td>...</td>\n",
       "      <td>...</td>\n",
       "      <td>...</td>\n",
       "      <td>...</td>\n",
       "      <td>...</td>\n",
       "    </tr>\n",
       "    <tr>\n",
       "      <th>2022-03-28</th>\n",
       "      <td>362.283963</td>\n",
       "      <td>-86.013042</td>\n",
       "      <td>0.0</td>\n",
       "      <td>0.0</td>\n",
       "      <td>86.013042</td>\n",
       "      <td>1439.787613</td>\n",
       "    </tr>\n",
       "    <tr>\n",
       "      <th>2022-03-29</th>\n",
       "      <td>276.270921</td>\n",
       "      <td>-89.854984</td>\n",
       "      <td>0.0</td>\n",
       "      <td>0.0</td>\n",
       "      <td>89.854984</td>\n",
       "      <td>1502.026959</td>\n",
       "    </tr>\n",
       "    <tr>\n",
       "      <th>2022-03-30</th>\n",
       "      <td>186.415937</td>\n",
       "      <td>-92.399361</td>\n",
       "      <td>0.0</td>\n",
       "      <td>0.0</td>\n",
       "      <td>92.399361</td>\n",
       "      <td>1535.864746</td>\n",
       "    </tr>\n",
       "    <tr>\n",
       "      <th>2022-03-31</th>\n",
       "      <td>94.016576</td>\n",
       "      <td>-94.016576</td>\n",
       "      <td>0.0</td>\n",
       "      <td>0.0</td>\n",
       "      <td>94.016576</td>\n",
       "      <td>1561.098033</td>\n",
       "    </tr>\n",
       "    <tr>\n",
       "      <th>2022-04-01</th>\n",
       "      <td>0.000000</td>\n",
       "      <td>0.000000</td>\n",
       "      <td>0.0</td>\n",
       "      <td>0.0</td>\n",
       "      <td>0.000000</td>\n",
       "      <td>0.000000</td>\n",
       "    </tr>\n",
       "  </tbody>\n",
       "</table>\n",
       "<p>342 rows × 6 columns</p>\n",
       "</div>"
      ],
      "text/plain": [
       "              inventory  inject_withdraw_volume  cmdty_consumed  \\\n",
       "2021-04-25  1500.000000             -187.500000             0.0   \n",
       "2021-04-26  1312.500000             -135.809375             0.0   \n",
       "2021-04-27  1176.690625             -110.886387             0.0   \n",
       "2021-04-28  1065.804238             -102.328584             0.0   \n",
       "2021-04-29   963.475654              -94.088148             0.0   \n",
       "...                 ...                     ...             ...   \n",
       "2022-03-28   362.283963              -86.013042             0.0   \n",
       "2022-03-29   276.270921              -89.854984             0.0   \n",
       "2022-03-30   186.415937              -92.399361             0.0   \n",
       "2022-03-31    94.016576              -94.016576             0.0   \n",
       "2022-04-01     0.000000                0.000000             0.0   \n",
       "\n",
       "            inventory_loss  net_volume    period_pv  \n",
       "2021-04-25             0.0  187.500000  3066.289538  \n",
       "2021-04-26             0.0  135.809375  2257.077466  \n",
       "2021-04-27             0.0  110.886387  1872.404605  \n",
       "2021-04-28             0.0  102.328584  1746.103670  \n",
       "2021-04-29             0.0   94.088148  1626.846662  \n",
       "...                    ...         ...          ...  \n",
       "2022-03-28             0.0   86.013042  1439.787613  \n",
       "2022-03-29             0.0   89.854984  1502.026959  \n",
       "2022-03-30             0.0   92.399361  1535.864746  \n",
       "2022-03-31             0.0   94.016576  1561.098033  \n",
       "2022-04-01             0.0    0.000000     0.000000  \n",
       "\n",
       "[342 rows x 6 columns]"
      ]
     },
     "execution_count": 91,
     "metadata": {},
     "output_type": "execute_result"
    }
   ],
   "source": [
    "three_factor_results.expected_profile"
   ]
  },
  {
   "cell_type": "markdown",
   "metadata": {},
   "source": [
    "<a id='instrumentation'></a>\n",
    "## Instrumentation\n",
    "There are two ways to instrument the valuation code: an on progress call-back and logging. This section describes both of these. \n",
    "\n",
    "\n",
    "<a id='progress_callback'></a>\n",
    "### Progress Callback\n",
    "Both valuation functions have an optional argument **on_progress_update** which should be assigned to a callable (i.e. a function) which accepts one argument and has void return. When running the valuation the callable will be invoked with a float instance passed in to the single argument with a numeric approximation of the percentage progress of the total calculation. A typical usage scenario would be to wire this up to a progress bar. This is particularly important from a usability perspective, when a high number of Monte-Carlo simulations are used, hence the calculations can take a long time.\n",
    "\n",
    "The example below demonstrates this with a IPython progress bar widget."
   ]
  },
  {
   "cell_type": "code",
   "execution_count": 92,
   "metadata": {},
   "outputs": [
    {
     "data": {
      "application/vnd.jupyter.widget-view+json": {
       "model_id": "7f706af193aa4197a33f9cb601728d20",
       "version_major": 2,
       "version_minor": 0
      },
      "text/plain": [
       "Button(description='Calc Storage Value', style=ButtonStyle())"
      ]
     },
     "metadata": {},
     "output_type": "display_data"
    },
    {
     "data": {
      "application/vnd.jupyter.widget-view+json": {
       "model_id": "6c436d366ecf4daeb8b4322f7ffae073",
       "version_major": 2,
       "version_minor": 0
      },
      "text/plain": [
       "FloatProgress(value=0.0, max=1.0)"
      ]
     },
     "metadata": {},
     "output_type": "display_data"
    }
   ],
   "source": [
    "progress_wgt = ipw.FloatProgress(min=0.0, max=1.0)\n",
    "\n",
    "def on_progress(progress):\n",
    "    progress_wgt.value = progress\n",
    "\n",
    "def btn_value_progress_clicked(b):\n",
    "    on_progress_demo_results = three_factor_seasonal_value(\n",
    "        cmdty_storage = storage,\n",
    "        val_date = '2021-04-25',\n",
    "        inventory = 1500.0,\n",
    "        fwd_curve = fwd_curve,\n",
    "        interest_rates = ir_curve,\n",
    "        settlement_rule = lambda decision_date: decision_date.asfreq('M').asfreq('D', 'end') + 20,\n",
    "        spot_mean_reversion = 45.0,\n",
    "        spot_vol = 0.65,\n",
    "        long_term_vol = 0.21,\n",
    "        seasonal_vol = 0.18,\n",
    "        num_sims = 500,\n",
    "        basis_funcs = '1 + x_st + x_sw + x_lt + x_st**2 + x_sw**2 + x_lt**2 + x_st**3 + x_sw**3 + x_lt**3',\n",
    "        discount_deltas=True,\n",
    "        on_progress_update = on_progress\n",
    "    )\n",
    "    \n",
    "btn_calc_value_progress = ipw.Button(description='Calc Storage Value')\n",
    "btn_calc_value_progress.on_click(btn_value_progress_clicked)\n",
    "display(btn_calc_value_progress)\n",
    "display(progress_wgt)"
   ]
  },
  {
   "cell_type": "markdown",
   "metadata": {},
   "source": [
    "<a id='logging'></a>\n",
    "### Loggging\n",
    "The cmdty_storage package makes use of the [standard Python logging module](https://docs.python.org/3/library/logging.html) by exposing a logger object at the level of the multi_factor module, which will be created with the name 'cmdty.storage.multi-factor'. A log handler can be added to this in order to direct the logged information to the desired destination. See the [logging advanced tutorial](https://docs.python.org/3/howto/logging.html#logging-advanced-tutorial) for more information on using appenders.\n",
    "\n",
    "The following uses slightly modified code from an example in the ipywideget [documentation](https://ipywidgets.readthedocs.io/en/latest/examples/Output%20Widget.html#Integrating-output-widgets-with-the-logging-module) to create a custom logging handler which prints to an [Output widget](https://ipywidgets.readthedocs.io/en/latest/examples/Output%20Widget.html)."
   ]
  },
  {
   "cell_type": "code",
   "execution_count": 93,
   "metadata": {},
   "outputs": [
    {
     "data": {
      "application/vnd.jupyter.widget-view+json": {
       "model_id": "b63316159d6245c4ba24a75beb38670f",
       "version_major": 2,
       "version_minor": 0
      },
      "text/plain": [
       "Button(description='Calc Storage Value', style=ButtonStyle())"
      ]
     },
     "metadata": {},
     "output_type": "display_data"
    },
    {
     "data": {
      "application/vnd.jupyter.widget-view+json": {
       "model_id": "ef8a62b1dfb4477bba22b57734c82c69",
       "version_major": 2,
       "version_minor": 0
      },
      "text/plain": [
       "Button(description='Clear Logs', style=ButtonStyle())"
      ]
     },
     "metadata": {},
     "output_type": "display_data"
    },
    {
     "data": {
      "application/vnd.jupyter.widget-view+json": {
       "model_id": "7d203336f1e244beac77f071f66e9f1e",
       "version_major": 2,
       "version_minor": 0
      },
      "text/plain": [
       "Output(layout=Layout(border='1px solid black', height='160px', overflow_y='auto', width='100%'))"
      ]
     },
     "metadata": {},
     "output_type": "display_data"
    }
   ],
   "source": [
    "from cmdty_storage import multi_factor\n",
    "import logging\n",
    "\n",
    "class OutputWidgetHandler(logging.Handler):\n",
    "    \"\"\" Custom logging handler sending logs to an output widget \"\"\"\n",
    "\n",
    "    def __init__(self, *args, **kwargs):\n",
    "        super(OutputWidgetHandler, self).__init__(*args, **kwargs)\n",
    "        layout = {\n",
    "            'width': '100%',\n",
    "            'height': '160px',\n",
    "            'border': '1px solid black',\n",
    "            'overflow_y': 'auto',\n",
    "        }\n",
    "        self.out = ipw.Output(layout=layout)\n",
    "\n",
    "    def emit(self, record):\n",
    "        \"\"\" Overload of logging.Handler method \"\"\"\n",
    "        formatted_record = self.format(record)\n",
    "        new_output = {\n",
    "            'name': 'stdout',\n",
    "            'output_type': 'stream',\n",
    "            'text': formatted_record+'\\n'\n",
    "        }\n",
    "        self.out.outputs = self.out.outputs + (new_output, )\n",
    "\n",
    "    def show_logs(self):\n",
    "        \"\"\" Show the logs \"\"\"\n",
    "        display(self.out)\n",
    "\n",
    "    def clear_logs(self):\n",
    "        \"\"\" Clear the current logs \"\"\"\n",
    "        self.out.clear_output()\n",
    "\n",
    "handler = OutputWidgetHandler()\n",
    "handler.setFormatter(logging.Formatter('%(asctime)s  - [%(levelname)s] %(message)s'))\n",
    "\n",
    "multi_factor.logger.setLevel(logging.INFO)\n",
    "\n",
    "def btn_value_logging_clicked(b):\n",
    "    multi_factor.logger.addHandler(handler)\n",
    "    logging_demo_results = three_factor_seasonal_value(\n",
    "        cmdty_storage = storage,\n",
    "        val_date = '2021-04-25',\n",
    "        inventory = 1500.0,\n",
    "        fwd_curve = fwd_curve,\n",
    "        interest_rates = ir_curve,\n",
    "        settlement_rule = lambda decision_date: decision_date.asfreq('M').asfreq('D', 'end') + 20,\n",
    "        spot_mean_reversion = 45.0,\n",
    "        spot_vol = 0.65,\n",
    "        long_term_vol = 0.21,\n",
    "        seasonal_vol = 0.18,\n",
    "        num_sims = 500,\n",
    "        basis_funcs = '1 + x_st + x_sw + x_lt + x_st**2 + x_sw**2 + x_lt**2 + x_st**3 + x_sw**3 + x_lt**3',\n",
    "        discount_deltas=True,\n",
    "    )\n",
    "    multi_factor.logger.removeHandler(handler)\n",
    "\n",
    "def btn_on_clear_logs_clicked(b):\n",
    "    handler.clear_logs()\n",
    "    \n",
    "btn_calc_value_logging = ipw.Button(description='Calc Storage Value')\n",
    "btn_calc_value_logging.on_click(btn_value_logging_clicked)\n",
    "display(btn_calc_value_logging)\n",
    "\n",
    "btn_clear_logs = ipw.Button(description='Clear Logs')\n",
    "btn_clear_logs.on_click(btn_on_clear_logs_clicked)\n",
    "display(btn_clear_logs)\n",
    "\n",
    "handler.show_logs()"
   ]
  }
 ],
 "metadata": {
  "kernelspec": {
   "display_name": "Python 3",
   "language": "python",
   "name": "python3"
  },
  "language_info": {
   "codemirror_mode": {
    "name": "ipython",
    "version": 3
   },
   "file_extension": ".py",
   "mimetype": "text/x-python",
   "name": "python",
   "nbconvert_exporter": "python",
   "pygments_lexer": "ipython3",
   "version": "3.7.1"
  }
 },
 "nbformat": 4,
 "nbformat_minor": 2
}
