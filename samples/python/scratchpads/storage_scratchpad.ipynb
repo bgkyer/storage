{
 "cells": [
  {
   "cell_type": "code",
   "execution_count": 4,
   "metadata": {},
   "outputs": [],
   "source": [
    "from datetime import date, timedelta\n",
    "import pandas as pd\n",
    "from cmdty_storage import CmdtyStorage, \\\n",
    "    intrinsic_value, multi_factor_value, RatchetInterp\n"
   ]
  },
  {
   "cell_type": "code",
   "execution_count": 2,
   "metadata": {},
   "outputs": [],
   "source": [
    "def create_piecewise_flat_series(data, dt_index, freq):\n",
    "    period_index = pd.PeriodIndex([pd.Period(dt, freq=freq) for dt in dt_index])\n",
    "    return pd.Series(data, period_index).resample(freq).fillna('pad')"
   ]
  },
  {
   "cell_type": "code",
   "execution_count": 11,
   "metadata": {},
   "outputs": [
    {
     "name": "stdout",
     "output_type": "stream",
     "text": [
      "Storage Intrinsic NPV\n",
      "40,394.36\n"
     ]
    }
   ],
   "source": [
    "constraints =   [\n",
    "                    (date(2019, 8, 28), \n",
    "                                [\n",
    "                                    (0.0, -150.0, 255.2),\n",
    "                                    (2000.0, -150.0, 255.2),\n",
    "                                ]),\n",
    "                    (date(2019, 9, 10), \n",
    "                             [\n",
    "                                 (0.0, -170.5, 235.8),\n",
    "                                 (700.0, -180.2, 200.77),\n",
    "                                 (1800.0, -180.2, 200.77),\n",
    "                            ])\n",
    "                ]\n",
    "\n",
    "storage_start = date(2019, 8, 28)\n",
    "storage_end = date(2019, 9, 25)\n",
    "constant_injection_cost = 0.015\n",
    "constant_pcnt_consumed_inject = 0.0001\n",
    "constant_withdrawal_cost = 0.02\n",
    "constant_pcnt_consumed_withdraw = 0.000088\n",
    "constant_pcnt_inventory_loss = 0.001;\n",
    "constant_pcnt_inventory_cost = 0.002;\n",
    "\n",
    "cmdty_storage = CmdtyStorage('D', storage_start, storage_end, constant_injection_cost, constant_withdrawal_cost, \n",
    "                         constraints, ratchet_interp=RatchetInterp.LINEAR,\n",
    "                        cmdty_consumed_inject=constant_pcnt_consumed_inject, cmdty_consumed_withdraw=constant_pcnt_consumed_withdraw,\n",
    "                        inventory_loss=constant_pcnt_inventory_loss, inventory_cost=constant_pcnt_inventory_cost)\n",
    "\n",
    "inventory = 650.0\n",
    "val_date = date(2019, 9, 2)\n",
    "\n",
    "forward_curve = create_piecewise_flat_series([58.89, 61.41, 59.89, 59.89], \n",
    "                          [val_date, date(2019, 9, 12), date(2019, 9, 18), storage_end], freq='D')\n",
    "\n",
    "flat_interest_rate = 0.03\n",
    "interest_rate_curve = pd.Series(index = pd.period_range(val_date, storage_end + timedelta(days=50), freq='D'), dtype='float64')\n",
    "interest_rate_curve[:] = flat_interest_rate\n",
    "\n",
    "twentieth_of_next_month = lambda period: period.asfreq('M').asfreq('D', 'end') + 20\n",
    "intrinsic_results = intrinsic_value(cmdty_storage, val_date, inventory, forward_curve, \n",
    "                settlement_rule=twentieth_of_next_month, interest_rates=interest_rate_curve, \n",
    "                                    num_inventory_grid_points=100)\n",
    "print(\"Storage Intrinsic NPV\")\n",
    "print(\"{:,.2f}\".format(intrinsic_results.npv) )"
   ]
  },
  {
   "cell_type": "code",
   "execution_count": null,
   "metadata": {},
   "outputs": [],
   "source": [
    "%matplotlib qt\n",
    "ax = forward_curve.plot(legend=True)\n",
    "ax.legend(\"Forward Curve\")\n",
    "intrinsic_results.profile.plot()"
   ]
  },
  {
   "cell_type": "code",
   "execution_count": null,
   "metadata": {},
   "outputs": [],
   "source": [
    "intrinsic_results.profile"
   ]
  },
  {
   "cell_type": "markdown",
   "metadata": {},
   "source": [
    "#### Trinomial Tree Valuation Example"
   ]
  },
  {
   "cell_type": "code",
   "execution_count": null,
   "metadata": {},
   "outputs": [],
   "source": [
    "from cmdty_storage import trinomial_value, trinomial_deltas\n",
    "\n",
    "# Trinomial Tree parameters\n",
    "mean_reversion = 14.5\n",
    "spot_volatility = create_piecewise_flat_series([1.35, 1.13, 1.24, 1.24],\n",
    "                           [val_date, date(2019, 9, 12), date(2019, 9, 18), storage_end], freq='D')\n",
    "time_step = 1.0/365.0\n",
    "\n",
    "trinomial_value = trinomial_value(cmdty_storage, val_date, inventory, forward_curve,\n",
    "                spot_volatility, mean_reversion, time_step,\n",
    "                 settlement_rule=twentieth_of_next_month,\n",
    "                interest_rates=interest_rate_curve, num_inventory_grid_points=100)\n",
    "\n",
    "print(\"Storage Trinomial Tree Model NPV\")\n",
    "print(\"{:,.2f}\".format(trinomial_value) )\n",
    "\n",
    "# Delta\n",
    "# Can specify the forward points to calculate delta for in several different ways as demonstrated below\n",
    "delta_fwd_contracts = [\n",
    "    date(2019, 8, 29),\n",
    "    '2019-08-29',\n",
    "    pd.Period(year=2019, month=9, freq='M'),\n",
    "    (date(2019, 8, 29), date(2019, 8, 30)),\n",
    "    ('2019-09-01', '2019-09-10'),\n",
    "    (pd.Period(year=2019, month=9, day=11, freq='D'), pd.Period(year=2019, month=9, day=25, freq='D'))\n",
    "]\n",
    "trinomial_deltas = trinomial_deltas(cmdty_storage, val_date, inventory, forward_curve,\n",
    "                spot_volatility, mean_reversion, time_step,\n",
    "                fwd_contracts=delta_fwd_contracts,\n",
    "                 settlement_rule=twentieth_of_next_month,\n",
    "                interest_rates=interest_rate_curve, num_inventory_grid_points=100)\n",
    "print(\"\")\n",
    "print(\"Storage Trinomial Tree Model Deltas\")\n",
    "print(trinomial_deltas)"
   ]
  },
  {
   "cell_type": "markdown",
   "metadata": {},
   "source": [
    "### Multi-Factor Least Squares Monte Carlo Example\n",
    "Creating the storage objects."
   ]
  },
  {
   "cell_type": "code",
   "execution_count": null,
   "metadata": {},
   "outputs": [],
   "source": [
    "from cmdty_storage import CmdtyStorage\n",
    "import pandas as pd\n",
    "storage_simple = CmdtyStorage(\n",
    "    freq='D',\n",
    "    storage_start = '2021-04-01',\n",
    "    storage_end = '2022-04-01',\n",
    "    injection_cost = 0.1,\n",
    "    withdrawal_cost = 0.25,\n",
    "    min_inventory = 0.0,\n",
    "    max_inventory = 1500.0,\n",
    "    max_injection_rate = 25.5,\n",
    "    max_withdrawal_rate = 30.9\n",
    ")\n",
    "\n",
    "storage_with_ratchets = CmdtyStorage(\n",
    "    freq='D',\n",
    "    storage_start = '2021-04-01',\n",
    "    storage_end = '2022-04-01',\n",
    "    injection_cost = 0.1,\n",
    "    withdrawal_cost = 0.25,\n",
    "    constraints= [\n",
    "                ('2021-04-01', # For days after 2021-04-01 (inclusive) until 2022-10-01 (exclusive):\n",
    "                       [\n",
    "                            (0.0, -150.0, 250.0),    # At min inventory of zero, max withdrawal of 150, max injection 250\n",
    "                            (2000.0, -200.0, 175.0), # At inventory of 2000, max withdrawal of 200, max injection 175\n",
    "                            (5000.0, -260.0, 155.0), # At inventory of 5000, max withdrawal of 260, max injection 155\n",
    "                            (7000.0, -275.0, 132.0), # At max inventory of 7000, max withdrawal of 275, max injection 132\n",
    "                        ]),\n",
    "                  ('2022-10-01', # For days after 2022-10-01 (inclusive):\n",
    "                       [\n",
    "                            (0.0, -130.0, 260.0),    # At min inventory of zero, max withdrawal of 130, max injection 260\n",
    "                            (2000.0, -190.0, 190.0), # At inventory of 2000, max withdrawal of 190, max injection 190\n",
    "                            (5000.0, -230.0, 165.0), # At inventory of 5000, max withdrawal of 230, max injection 165\n",
    "                            (7000.0, -245.0, 148.0), # At max inventory of 7000, max withdrawal of 245, max injection 148\n",
    "                        ]),\n",
    "                 ]\n",
    ")\n",
    "\n"
   ]
  },
  {
   "cell_type": "code",
   "execution_count": null,
   "metadata": {},
   "outputs": [],
   "source": [
    "from cmdty_storage import three_factor_seasonal_value\n",
    "\n",
    "# Creating the Inputs\n",
    "monthly_index = pd.period_range(start='2021-04-25', periods=25, freq='M')\n",
    "monthly_fwd_prices = [16.61, 15.68, 15.42, 15.31, 15.27, 15.13, 15.96, 17.22, 17.32, 17.66, \n",
    "                      17.59, 16.81, 15.36, 14.49, 14.28, 14.25, 14.32, 14.33, 15.30, 16.58, \n",
    "                      16.64, 16.79, 16.64, 15.90, 14.63]\n",
    "fwd_curve = pd.Series(data=monthly_fwd_prices, index=monthly_index).resample('D').fillna('pad')\n",
    "\n",
    "rates = [0.005, 0.006, 0.0072, 0.0087, 0.0101, 0.0115, 0.0126]\n",
    "rates_pillars = pd.PeriodIndex(freq='D', data=['2021-04-25', '2021-06-01', '2021-08-01', '2021-12-01', '2022-04-01', \n",
    "                                              '2022-12-01', '2023-12-01'])\n",
    "ir_curve = pd.Series(data=rates, index=rates_pillars).resample('D').asfreq('D').interpolate(method='linear')\n",
    "\n",
    "def settlement_rule(delivery_date):\n",
    "    return delivery_date.asfreq('M').asfreq('D', 'end') + 20\n",
    "\n",
    "storage_steps = CmdtyStorage(\n",
    "    freq='D',\n",
    "    storage_start = '2021-05-01',\n",
    "    storage_end = '2023-04-01',\n",
    "    injection_cost = 0.53,\n",
    "    withdrawal_cost = 0.15,\n",
    "    constraints= [\n",
    "                ('2021-04-01', # For days after 2021-04-01 (inclusive) until 2022-10-01 (exclusive):\n",
    "                       [\n",
    "                            (0.0, -5810.0, 7632.0),\n",
    "                            (64000, -5810.1, 7632.0),\n",
    "                            (64260, -15288.0, 7632.0),\n",
    "                            (182070.0, -15288.0, 3816.0),\n",
    "                            (192780.0, -15288.0, 2279.0),\n",
    "                           (214200.0, -15288.0, 2269.0),\n",
    "                        ]),\n",
    "                 ]\n",
    ")\n",
    "\n",
    "\n",
    "# Call the three-factor seasonal model\n",
    "three_factor_results = three_factor_seasonal_value(\n",
    "    cmdty_storage = storage_steps,\n",
    "    val_date = '2021-04-12',\n",
    "    inventory = 0.0,\n",
    "    fwd_curve = fwd_curve,\n",
    "    interest_rates = ir_curve,\n",
    "    settlement_rule = settlement_rule,\n",
    "    num_sims = 500,\n",
    "    seed = 12,\n",
    "    spot_mean_reversion = 91.0,\n",
    "    spot_vol = 0.85,\n",
    "    long_term_vol =  0.30,\n",
    "    seasonal_vol = 0.19,\n",
    "    basis_funcs = '1 + x_st + x_sw + x_lt + s + x_st**2 + x_sw**2 + x_lt**2 + s**2 + s * x_st',\n",
    "    discount_deltas = True,\n",
    "    numerical_tolerance = 1.0\n",
    ")\n",
    "\n",
    "# Inspect the NPV results\n",
    "print('Full NPV:\\t{0:,.0f}'.format(three_factor_results.npv))\n",
    "print('Intrinsic NPV: \\t{0:,.0f}'.format(three_factor_results.intrinsic_npv))\n",
    "print('Extrinsic NPV: \\t{0:,.0f}'.format(three_factor_results.extrinsic_npv))"
   ]
  },
  {
   "cell_type": "code",
   "execution_count": null,
   "metadata": {},
   "outputs": [],
   "source": [
    "%matplotlib inline\n",
    "ax_deltas = three_factor_results.deltas.plot(title='Daily Deltas vs Projected Inventory', legend=True, label='Delta')\n",
    "ax_deltas.set_ylabel('Delta')\n",
    "inventory_projection = three_factor_results.expected_profile['inventory']\n",
    "ax_inventory = inventory_projection.plot(secondary_y=True, legend=True, ax=ax_deltas, label='Expected Inventory')\n",
    "h1, l1 = ax_deltas.get_legend_handles_labels()\n",
    "h2, l2 = ax_inventory.get_legend_handles_labels()\n",
    "ax_inventory.set_ylabel('Inventory')\n",
    "ax_deltas.legend(h1+h2, l1+l2, loc=1)"
   ]
  },
  {
   "cell_type": "markdown",
   "metadata": {},
   "source": [
    "Plot the trigger prices."
   ]
  },
  {
   "cell_type": "code",
   "execution_count": null,
   "metadata": {},
   "outputs": [],
   "source": [
    "%matplotlib inline\n",
    "ax_triggers = three_factor_results.trigger_prices['inject_trigger_price'].plot(\n",
    "    title='Trigger Prices vs Forward Curve', legend=True)\n",
    "three_factor_results.trigger_prices['withdraw_trigger_price'].plot(legend=True)\n",
    "fwd_curve['2021-04-25' : '2022-04-01'].plot(legend=True)\n",
    "ax_triggers.legend(['Inject Trigger Price', 'Withdraw Trigger', 'Forward Curve'])"
   ]
  },
  {
   "cell_type": "markdown",
   "metadata": {},
   "source": [
    "### Checking Spot Simulations"
   ]
  },
  {
   "cell_type": "code",
   "execution_count": null,
   "metadata": {},
   "outputs": [],
   "source": [
    "import xlrd\n",
    "from datetime import datetime\n",
    "\n",
    "import_num_sims=1000\n",
    "spot_sims_path = r'C:\\test_data\\spot_sims_20210715.csv'\n",
    "\n",
    "def index_parser(date_val):\n",
    "    return datetime(*xlrd.xldate_as_tuple(date_val, 0))\n",
    "\n",
    "file_sims = pd.read_csv(spot_sims_path, skiprows=[0], names=list(range(0, import_num_sims)), date_parser=index_parser)\n"
   ]
  },
  {
   "cell_type": "code",
   "execution_count": null,
   "metadata": {},
   "outputs": [],
   "source": [
    "import numpy as np\n",
    "file_sims_mean = file_sims.aggregate(func='mean', axis='columns', raw = True)\n",
    "file_sims_log_stdev = file_sims.transform(func=np.log).aggregate(func='std', axis='columns', raw = True)\n",
    "%matplotlib inline\n",
    "file_sims_log_stdev.plot()\n"
   ]
  },
  {
   "cell_type": "code",
   "execution_count": null,
   "metadata": {},
   "outputs": [],
   "source": [
    "from cmdty_storage import multi_factor as mf\n",
    "from cmdty_storage import MultiFactorModel\n",
    "from datetime import timedelta\n",
    "import ipywidgets as ipw\n",
    "import math\n",
    "from ipywidgets.widgets.interaction import show_inline_matplotlib_plots\n",
    "# Valuation parameters\n",
    "freq='D'\n",
    "val_date = '2021-07-15'\n",
    "spot_mean_reversion = 0.24682*365.25 * 7.0 / 5.0\n",
    "long_term_vol = 0.30774\n",
    "seasonal_vol = 0.20092\n",
    "spot_vol = 0.8427\n",
    "#spot_vol = (0.8427**2 - long_term_vol**2 - seasonal_vol**2)**0.5\n",
    "\n",
    "val_date = datetime.strptime(val_date, \"%Y-%m-%d\")\n",
    "\n",
    "factors, factor_corrs = mf.create_3_factor_season_params(freq, spot_mean_reversion, spot_vol, long_term_vol, \n",
    "                                 seasonal_vol, file_sims.index[0], file_sims.index[-1])\n",
    "\n",
    "mf_model = MultiFactorModel(freq, factors, factor_corrs)\n",
    "\n",
    "if val_date in file_sims.index: # First point will have no vol\n",
    "    stats_index = file_sims.index[1:]\n",
    "else:\n",
    "    stats_index = file_sims.index\n",
    "\n",
    "model_log_stdev = pd.Series(index=stats_index, dtype='float64')\n",
    "model_avg_vol = pd.Series(index=stats_index, dtype='float64')\n",
    "file_sims_vol = pd.Series(index=stats_index, dtype='float64')\n",
    "\n",
    "for cp in stats_index:\n",
    "    expiry = cp #- timedelta(days=1)\n",
    "    t_expiry = (expiry - val_date).days / 365.25\n",
    "    model_log_stdev[cp] = mf_model.integrated_stan_dev(val_date, expiry, cp)\n",
    "    model_avg_vol[cp] = mf_model.integrated_vol(val_date, expiry, cp)\n",
    "    file_sims_vol[cp] = file_sims_log_stdev[cp] / math.sqrt(t_expiry)\n",
    "\n",
    "stdev_out = ipw.Output()\n",
    "avg_vol_out = ipw.Output()\n",
    "\n",
    "with stdev_out:\n",
    "    file_sims_log_stdev[1:].plot(label='Simulated', legend=True)\n",
    "    model_log_stdev.plot(label='Theoretical', legend=True)\n",
    "    show_inline_matplotlib_plots()\n",
    "    \n",
    "with avg_vol_out:\n",
    "    model_avg_vol.plot(label='Model vol', legend=True)\n",
    "    file_sims_vol.plot(label='Sims vol', legend=True)\n",
    "    show_inline_matplotlib_plots()\n",
    "\n",
    "\n",
    "    \n",
    "display(ipw.HBox([stdev_out, avg_vol_out]))\n"
   ]
  }
 ],
 "metadata": {
  "kernelspec": {
   "display_name": "Python 3",
   "language": "python",
   "name": "python3"
  },
  "language_info": {
   "codemirror_mode": {
    "name": "ipython",
    "version": 3
   },
   "file_extension": ".py",
   "mimetype": "text/x-python",
   "name": "python",
   "nbconvert_exporter": "python",
   "pygments_lexer": "ipython3",
   "version": "3.7.1"
  }
 },
 "nbformat": 4,
 "nbformat_minor": 2
}
